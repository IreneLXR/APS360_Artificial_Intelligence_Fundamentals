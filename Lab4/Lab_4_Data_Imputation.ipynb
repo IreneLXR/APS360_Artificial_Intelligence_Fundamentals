{
 "cells": [
  {
   "cell_type": "markdown",
   "metadata": {
    "colab_type": "text",
    "id": "OhtOdxzd1ppr"
   },
   "source": [
    "# Lab 4: Data Imputation using an Autoencoder\n",
    "\n",
    "**Deadline**: Thursday, March 5, 11:59pm\n",
    "\n",
    "**Late Penalty**: There is a penalty-free grace period of one hour past the deadline. Any work that is submitted between 1 hour and 24 hours past the deadline will receive a 20% grade deduction. No other late work is accepted. Quercus submission time will be used, not your local computer time. You can submit your labs as many times as you want before the deadline, so please submit often and early.\n",
    "\n",
    "**TA**: Chris Lucasius\n",
    "\n",
    "In this lab, you will build and train an autoencoder to impute (or \"fill in\") missing data. \n",
    "\n",
    "We will be using the\n",
    "Adult Data Set provided by the UCI Machine Learning Repository [1], available \n",
    "at https://archive.ics.uci.edu/ml/datasets/adult.\n",
    "The data set contains census record files of adults, including their\n",
    "age, martial status, the type of work they do, and other features. \n",
    "\n",
    "Normally, people use this data set to build a supervised classification\n",
    "model to classify whether a person is a high income earner.\n",
    "We will not use the dataset for this original intended purpose.\n",
    "\n",
    "Instead, we will perform the task of imputing (or \"filling in\") missing values in the dataset. For example,\n",
    "we may be missing one person's martial status, and another person's age, and\n",
    "a third person's level of education. Our model will predict the missing features \n",
    "based on the information that we do have about each person.\n",
    "\n",
    "We will use a variation of a denoising autoencoder to solve this data imputation\n",
    "problem. Our autoencoder will be trained using inputs that have one categorical feature artificially\n",
    "removed, and the goal of the autoencoder is to correctly reconstruct all features,\n",
    "including the one removed from the input.\n",
    "\n",
    "In the process, you are expected to learn to:\n",
    "\n",
    "1. Clean and process continuous and categorical data for machine learning.\n",
    "2. Implement an autoencoder that takes continuous and categorical (one-hot) inputs.\n",
    "3. Tune the hyperparameters of an autoencoder.\n",
    "4. Use baseline models to help interpret model performance.\n",
    "\n",
    "[1] Dua, D. and Karra Taniskidou, E. (2017). UCI Machine Learning Repository [http://archive.ics.uci.edu/ml]. Irvine, CA: University of California, School of Information and Computer Science.\n",
    "\n",
    "\n",
    "### What to submit\n",
    "\n",
    "Submit a PDF file containing all your code, outputs, and write-up. You can produce a PDF of your Google Colab file by going to File > Print and then save as PDF. The Colab instructions have more information (.html files are also acceptable).\n",
    "\n",
    "Do not submit any other files produced by your code.\n",
    "\n",
    "Include a link to your colab file in your submission.\n"
   ]
  },
  {
   "cell_type": "markdown",
   "metadata": {
    "colab_type": "text",
    "id": "zbnrp2ig1pps"
   },
   "source": [
    "## Colab Link\n",
    "\n",
    "Include a link to your Colab file here. If you would like the TA to look at your\n",
    "Colab file in case your solutions are cut off, **please make sure that your Colab\n",
    "file is publicly accessible at the time of submission**.\n",
    "\n",
    "Colab Link:https://colab.research.google.com/drive/1t9R_gw42VG_RdzLFGItkJ7Q7vVPRvhnq"
   ]
  },
  {
   "cell_type": "code",
   "execution_count": 0,
   "metadata": {
    "colab": {},
    "colab_type": "code",
    "id": "z3p8N43E1ppt"
   },
   "outputs": [],
   "source": [
    "import csv\n",
    "import numpy as np\n",
    "import random\n",
    "import torch\n",
    "import torch.utils.data"
   ]
  },
  {
   "cell_type": "markdown",
   "metadata": {
    "colab_type": "text",
    "id": "8ROwtHcz1ppx"
   },
   "source": [
    "## Part 0\n",
    "\n",
    "We will be using a package called `pandas` for this assignment. \n",
    "\n",
    "If you are using Colab, `pandas` should already be available.\n",
    "If you are using your own computer,\n",
    "installation instructions for `pandas` are available here: \n",
    "https://pandas.pydata.org/pandas-docs/stable/install.html"
   ]
  },
  {
   "cell_type": "code",
   "execution_count": 0,
   "metadata": {
    "colab": {},
    "colab_type": "code",
    "id": "IXQ7BP151ppz"
   },
   "outputs": [],
   "source": [
    "import pandas as pd"
   ]
  },
  {
   "cell_type": "markdown",
   "metadata": {
    "colab_type": "text",
    "id": "hqXihb4Q1pp2"
   },
   "source": [
    "# Part 1. Data Cleaning [15 pt]\n",
    "\n",
    "The adult.data file is available at `https://archive.ics.uci.edu/ml/machine-learning-databases/adult/adult.data`\n",
    "\n",
    "The function `pd.read_csv` loads the adult.data file into a pandas dataframe.\n",
    "You can read about the pandas documentation for `pd.read_csv` at\n",
    "https://pandas.pydata.org/pandas-docs/stable/reference/api/pandas.read_csv.html"
   ]
  },
  {
   "cell_type": "code",
   "execution_count": 0,
   "metadata": {
    "colab": {},
    "colab_type": "code",
    "id": "EOMItFKn1pp3"
   },
   "outputs": [],
   "source": [
    "header = ['age', 'work', 'fnlwgt', 'edu', 'yredu', 'marriage', 'occupation',\n",
    " 'relationship', 'race', 'sex', 'capgain', 'caploss', 'workhr', 'country']\n",
    "df = pd.read_csv(\n",
    "    \"https://archive.ics.uci.edu/ml/machine-learning-databases/adult/adult.data\",\n",
    "    names=header,\n",
    "    index_col=False)"
   ]
  },
  {
   "cell_type": "code",
   "execution_count": 0,
   "metadata": {
    "colab": {
     "base_uri": "https://localhost:8080/",
     "height": 35
    },
    "colab_type": "code",
    "executionInfo": {
     "elapsed": 275,
     "status": "ok",
     "timestamp": 1583201031341,
     "user": {
      "displayName": "Xinru Li",
      "photoUrl": "",
      "userId": "03269021331369680186"
     },
     "user_tz": 300
    },
    "id": "62Ot405q1pp5",
    "outputId": "412afae3-d6f8-419f-fae1-376b61b15389",
    "scrolled": true
   },
   "outputs": [
    {
     "data": {
      "text/plain": [
       "(32561, 14)"
      ]
     },
     "execution_count": 60,
     "metadata": {
      "tags": []
     },
     "output_type": "execute_result"
    }
   ],
   "source": [
    "df.shape # there are 32561 rows (records) in the data frame, and 14 columns (features)"
   ]
  },
  {
   "cell_type": "markdown",
   "metadata": {
    "colab_type": "text",
    "id": "Tr7YG-QY1pp8"
   },
   "source": [
    "### Part (a) Continuous Features [3 pt]\n",
    "\n",
    "For each of the columns `[\"age\", \"yredu\", \"capgain\", \"caploss\", \"workhr\"]`, report the minimum, maximum, and average value across the dataset. \n",
    "\n",
    "Then, normalize each of the features `[\"age\", \"yredu\", \"capgain\", \"caploss\", \"workhr\"]`\n",
    "so that their values are always between 0 and 1.\n",
    "Make sure that you are actually modifying the dataframe `df`. \n",
    "\n",
    "Like numpy arrays and torch tensors, \n",
    "pandas data frames can be sliced. For example, we can\n",
    "display the first 3 rows of the data frame (3 records) below."
   ]
  },
  {
   "cell_type": "code",
   "execution_count": 0,
   "metadata": {
    "colab": {
     "base_uri": "https://localhost:8080/",
     "height": 143
    },
    "colab_type": "code",
    "executionInfo": {
     "elapsed": 382,
     "status": "ok",
     "timestamp": 1583201032893,
     "user": {
      "displayName": "Xinru Li",
      "photoUrl": "",
      "userId": "03269021331369680186"
     },
     "user_tz": 300
    },
    "id": "9evSLsSa1pp9",
    "outputId": "a0582f80-f347-4e6d-a95b-fc71f9da25d8",
    "scrolled": false
   },
   "outputs": [
    {
     "data": {
      "text/html": [
       "<div>\n",
       "<style scoped>\n",
       "    .dataframe tbody tr th:only-of-type {\n",
       "        vertical-align: middle;\n",
       "    }\n",
       "\n",
       "    .dataframe tbody tr th {\n",
       "        vertical-align: top;\n",
       "    }\n",
       "\n",
       "    .dataframe thead th {\n",
       "        text-align: right;\n",
       "    }\n",
       "</style>\n",
       "<table border=\"1\" class=\"dataframe\">\n",
       "  <thead>\n",
       "    <tr style=\"text-align: right;\">\n",
       "      <th></th>\n",
       "      <th>age</th>\n",
       "      <th>work</th>\n",
       "      <th>fnlwgt</th>\n",
       "      <th>edu</th>\n",
       "      <th>yredu</th>\n",
       "      <th>marriage</th>\n",
       "      <th>occupation</th>\n",
       "      <th>relationship</th>\n",
       "      <th>race</th>\n",
       "      <th>sex</th>\n",
       "      <th>capgain</th>\n",
       "      <th>caploss</th>\n",
       "      <th>workhr</th>\n",
       "      <th>country</th>\n",
       "    </tr>\n",
       "  </thead>\n",
       "  <tbody>\n",
       "    <tr>\n",
       "      <th>0</th>\n",
       "      <td>39</td>\n",
       "      <td>State-gov</td>\n",
       "      <td>77516</td>\n",
       "      <td>Bachelors</td>\n",
       "      <td>13</td>\n",
       "      <td>Never-married</td>\n",
       "      <td>Adm-clerical</td>\n",
       "      <td>Not-in-family</td>\n",
       "      <td>White</td>\n",
       "      <td>Male</td>\n",
       "      <td>2174</td>\n",
       "      <td>0</td>\n",
       "      <td>40</td>\n",
       "      <td>United-States</td>\n",
       "    </tr>\n",
       "    <tr>\n",
       "      <th>1</th>\n",
       "      <td>50</td>\n",
       "      <td>Self-emp-not-inc</td>\n",
       "      <td>83311</td>\n",
       "      <td>Bachelors</td>\n",
       "      <td>13</td>\n",
       "      <td>Married-civ-spouse</td>\n",
       "      <td>Exec-managerial</td>\n",
       "      <td>Husband</td>\n",
       "      <td>White</td>\n",
       "      <td>Male</td>\n",
       "      <td>0</td>\n",
       "      <td>0</td>\n",
       "      <td>13</td>\n",
       "      <td>United-States</td>\n",
       "    </tr>\n",
       "    <tr>\n",
       "      <th>2</th>\n",
       "      <td>38</td>\n",
       "      <td>Private</td>\n",
       "      <td>215646</td>\n",
       "      <td>HS-grad</td>\n",
       "      <td>9</td>\n",
       "      <td>Divorced</td>\n",
       "      <td>Handlers-cleaners</td>\n",
       "      <td>Not-in-family</td>\n",
       "      <td>White</td>\n",
       "      <td>Male</td>\n",
       "      <td>0</td>\n",
       "      <td>0</td>\n",
       "      <td>40</td>\n",
       "      <td>United-States</td>\n",
       "    </tr>\n",
       "  </tbody>\n",
       "</table>\n",
       "</div>"
      ],
      "text/plain": [
       "   age               work  fnlwgt  ... caploss  workhr         country\n",
       "0   39          State-gov   77516  ...       0      40   United-States\n",
       "1   50   Self-emp-not-inc   83311  ...       0      13   United-States\n",
       "2   38            Private  215646  ...       0      40   United-States\n",
       "\n",
       "[3 rows x 14 columns]"
      ]
     },
     "execution_count": 61,
     "metadata": {
      "tags": []
     },
     "output_type": "execute_result"
    }
   ],
   "source": [
    "df[:3] # show the first 3 records"
   ]
  },
  {
   "cell_type": "markdown",
   "metadata": {
    "colab_type": "text",
    "id": "gBOojI6W1pqA"
   },
   "source": [
    "Alternatively, we can slice based on column names, \n",
    "for example `df[\"race\"]`, `df[\"hr\"]`, or even index multiple columns \n",
    "like below."
   ]
  },
  {
   "cell_type": "code",
   "execution_count": 0,
   "metadata": {
    "colab": {
     "base_uri": "https://localhost:8080/",
     "height": 143
    },
    "colab_type": "code",
    "executionInfo": {
     "elapsed": 307,
     "status": "ok",
     "timestamp": 1583201034383,
     "user": {
      "displayName": "Xinru Li",
      "photoUrl": "",
      "userId": "03269021331369680186"
     },
     "user_tz": 300
    },
    "id": "4v6pp73A1pqB",
    "outputId": "e0d2519b-3519-4fa6-f518-41794ca47b93"
   },
   "outputs": [
    {
     "data": {
      "text/html": [
       "<div>\n",
       "<style scoped>\n",
       "    .dataframe tbody tr th:only-of-type {\n",
       "        vertical-align: middle;\n",
       "    }\n",
       "\n",
       "    .dataframe tbody tr th {\n",
       "        vertical-align: top;\n",
       "    }\n",
       "\n",
       "    .dataframe thead th {\n",
       "        text-align: right;\n",
       "    }\n",
       "</style>\n",
       "<table border=\"1\" class=\"dataframe\">\n",
       "  <thead>\n",
       "    <tr style=\"text-align: right;\">\n",
       "      <th></th>\n",
       "      <th>age</th>\n",
       "      <th>yredu</th>\n",
       "      <th>capgain</th>\n",
       "      <th>caploss</th>\n",
       "      <th>workhr</th>\n",
       "    </tr>\n",
       "  </thead>\n",
       "  <tbody>\n",
       "    <tr>\n",
       "      <th>0</th>\n",
       "      <td>39</td>\n",
       "      <td>13</td>\n",
       "      <td>2174</td>\n",
       "      <td>0</td>\n",
       "      <td>40</td>\n",
       "    </tr>\n",
       "    <tr>\n",
       "      <th>1</th>\n",
       "      <td>50</td>\n",
       "      <td>13</td>\n",
       "      <td>0</td>\n",
       "      <td>0</td>\n",
       "      <td>13</td>\n",
       "    </tr>\n",
       "    <tr>\n",
       "      <th>2</th>\n",
       "      <td>38</td>\n",
       "      <td>9</td>\n",
       "      <td>0</td>\n",
       "      <td>0</td>\n",
       "      <td>40</td>\n",
       "    </tr>\n",
       "  </tbody>\n",
       "</table>\n",
       "</div>"
      ],
      "text/plain": [
       "   age  yredu  capgain  caploss  workhr\n",
       "0   39     13     2174        0      40\n",
       "1   50     13        0        0      13\n",
       "2   38      9        0        0      40"
      ]
     },
     "execution_count": 62,
     "metadata": {
      "tags": []
     },
     "output_type": "execute_result"
    }
   ],
   "source": [
    "subdf = df[[\"age\", \"yredu\", \"capgain\", \"caploss\", \"workhr\"]]\n",
    "subdf[:3] # show the first 3 records"
   ]
  },
  {
   "cell_type": "markdown",
   "metadata": {
    "colab_type": "text",
    "id": "2Nru2P0E1pqD"
   },
   "source": [
    "Numpy works nicely with pandas, like below:"
   ]
  },
  {
   "cell_type": "code",
   "execution_count": 0,
   "metadata": {
    "colab": {
     "base_uri": "https://localhost:8080/",
     "height": 35
    },
    "colab_type": "code",
    "executionInfo": {
     "elapsed": 310,
     "status": "ok",
     "timestamp": 1583201035223,
     "user": {
      "displayName": "Xinru Li",
      "photoUrl": "",
      "userId": "03269021331369680186"
     },
     "user_tz": 300
    },
    "id": "JXrS6tjp1pqE",
    "outputId": "8d41db95-0cc4-4423-ee0f-5178b53b8b5f"
   },
   "outputs": [
    {
     "data": {
      "text/plain": [
       "2842700"
      ]
     },
     "execution_count": 63,
     "metadata": {
      "tags": []
     },
     "output_type": "execute_result"
    }
   ],
   "source": [
    "np.sum(subdf[\"caploss\"])"
   ]
  },
  {
   "cell_type": "markdown",
   "metadata": {
    "colab_type": "text",
    "id": "Mv5mbxDM1pqH"
   },
   "source": [
    "Just like numpy arrays, you can modify\n",
    "entire columns of data rather than one scalar element at a time.\n",
    "For example, the code  \n",
    "\n",
    "`df[\"age\"] = df[\"age\"] + 1` \n",
    "\n",
    "would increment everyone's age by 1."
   ]
  },
  {
   "cell_type": "code",
   "execution_count": 0,
   "metadata": {
    "colab": {
     "base_uri": "https://localhost:8080/",
     "height": 146
    },
    "colab_type": "code",
    "executionInfo": {
     "elapsed": 351,
     "status": "ok",
     "timestamp": 1583201036790,
     "user": {
      "displayName": "Xinru Li",
      "photoUrl": "",
      "userId": "03269021331369680186"
     },
     "user_tz": 300
    },
    "id": "k5rlWD7-1pqH",
    "outputId": "837707de-a670-466d-ed5e-b3d34f13bbd1"
   },
   "outputs": [
    {
     "name": "stdout",
     "output_type": "stream",
     "text": [
      "Minimum Value\n"
     ]
    },
    {
     "data": {
      "text/plain": [
       "age        17\n",
       "yredu       1\n",
       "capgain     0\n",
       "caploss     0\n",
       "workhr      1\n",
       "dtype: int64"
      ]
     },
     "execution_count": 64,
     "metadata": {
      "tags": []
     },
     "output_type": "execute_result"
    }
   ],
   "source": [
    "print(\"Minimum Value\")\n",
    "subdf.min()"
   ]
  },
  {
   "cell_type": "code",
   "execution_count": 0,
   "metadata": {
    "colab": {
     "base_uri": "https://localhost:8080/",
     "height": 146
    },
    "colab_type": "code",
    "executionInfo": {
     "elapsed": 365,
     "status": "ok",
     "timestamp": 1583201037862,
     "user": {
      "displayName": "Xinru Li",
      "photoUrl": "",
      "userId": "03269021331369680186"
     },
     "user_tz": 300
    },
    "id": "RAdt3ZHeolFG",
    "outputId": "9df59d4f-32b8-42da-a9a6-6ddb0f8b0702"
   },
   "outputs": [
    {
     "name": "stdout",
     "output_type": "stream",
     "text": [
      "Maximum Value\n"
     ]
    },
    {
     "data": {
      "text/plain": [
       "age           90\n",
       "yredu         16\n",
       "capgain    99999\n",
       "caploss     4356\n",
       "workhr        99\n",
       "dtype: int64"
      ]
     },
     "execution_count": 65,
     "metadata": {
      "tags": []
     },
     "output_type": "execute_result"
    }
   ],
   "source": [
    "print(\"Maximum Value\")\n",
    "subdf.max()"
   ]
  },
  {
   "cell_type": "code",
   "execution_count": 0,
   "metadata": {
    "colab": {
     "base_uri": "https://localhost:8080/",
     "height": 146
    },
    "colab_type": "code",
    "executionInfo": {
     "elapsed": 339,
     "status": "ok",
     "timestamp": 1583201039404,
     "user": {
      "displayName": "Xinru Li",
      "photoUrl": "",
      "userId": "03269021331369680186"
     },
     "user_tz": 300
    },
    "id": "Vmqcen8UolZr",
    "outputId": "d73f1af8-7cec-4c4b-bc5c-f440e44987c6"
   },
   "outputs": [
    {
     "name": "stdout",
     "output_type": "stream",
     "text": [
      "AVerage Value\n"
     ]
    },
    {
     "data": {
      "text/plain": [
       "age          38.581647\n",
       "yredu        10.080679\n",
       "capgain    1077.648844\n",
       "caploss      87.303830\n",
       "workhr       40.437456\n",
       "dtype: float64"
      ]
     },
     "execution_count": 66,
     "metadata": {
      "tags": []
     },
     "output_type": "execute_result"
    }
   ],
   "source": [
    "print(\"AVerage Value\")\n",
    "np.sum(subdf / len(subdf))"
   ]
  },
  {
   "cell_type": "code",
   "execution_count": 0,
   "metadata": {
    "colab": {
     "base_uri": "https://localhost:8080/",
     "height": 162
    },
    "colab_type": "code",
    "executionInfo": {
     "elapsed": 327,
     "status": "ok",
     "timestamp": 1583201673644,
     "user": {
      "displayName": "Xinru Li",
      "photoUrl": "",
      "userId": "03269021331369680186"
     },
     "user_tz": 300
    },
    "id": "zkzYWBNJpWuA",
    "outputId": "fc7a308e-6f87-4f1e-f1cc-22db2ce94f03"
   },
   "outputs": [
    {
     "name": "stdout",
     "output_type": "stream",
     "text": [
      "Normalization\n"
     ]
    },
    {
     "data": {
      "text/html": [
       "<div>\n",
       "<style scoped>\n",
       "    .dataframe tbody tr th:only-of-type {\n",
       "        vertical-align: middle;\n",
       "    }\n",
       "\n",
       "    .dataframe tbody tr th {\n",
       "        vertical-align: top;\n",
       "    }\n",
       "\n",
       "    .dataframe thead th {\n",
       "        text-align: right;\n",
       "    }\n",
       "</style>\n",
       "<table border=\"1\" class=\"dataframe\">\n",
       "  <thead>\n",
       "    <tr style=\"text-align: right;\">\n",
       "      <th></th>\n",
       "      <th>age</th>\n",
       "      <th>yredu</th>\n",
       "      <th>capgain</th>\n",
       "      <th>caploss</th>\n",
       "      <th>workhr</th>\n",
       "    </tr>\n",
       "  </thead>\n",
       "  <tbody>\n",
       "    <tr>\n",
       "      <th>0</th>\n",
       "      <td>0.301370</td>\n",
       "      <td>0.800000</td>\n",
       "      <td>0.02174</td>\n",
       "      <td>0.0</td>\n",
       "      <td>0.397959</td>\n",
       "    </tr>\n",
       "    <tr>\n",
       "      <th>1</th>\n",
       "      <td>0.452055</td>\n",
       "      <td>0.800000</td>\n",
       "      <td>0.00000</td>\n",
       "      <td>0.0</td>\n",
       "      <td>0.122449</td>\n",
       "    </tr>\n",
       "    <tr>\n",
       "      <th>2</th>\n",
       "      <td>0.287671</td>\n",
       "      <td>0.533333</td>\n",
       "      <td>0.00000</td>\n",
       "      <td>0.0</td>\n",
       "      <td>0.397959</td>\n",
       "    </tr>\n",
       "  </tbody>\n",
       "</table>\n",
       "</div>"
      ],
      "text/plain": [
       "        age     yredu  capgain  caploss    workhr\n",
       "0  0.301370  0.800000  0.02174      0.0  0.397959\n",
       "1  0.452055  0.800000  0.00000      0.0  0.122449\n",
       "2  0.287671  0.533333  0.00000      0.0  0.397959"
      ]
     },
     "execution_count": 99,
     "metadata": {
      "tags": []
     },
     "output_type": "execute_result"
    }
   ],
   "source": [
    "print(\"Normalization\")\n",
    "df[[\"age\", \"yredu\", \"capgain\", \"caploss\", \"workhr\"]] = (normalized_df - normalized_df.min()) / (normalized_df.max() - normalized_df.min())\n",
    "df[[\"age\", \"yredu\", \"capgain\", \"caploss\", \"workhr\"]][:3]\n"
   ]
  },
  {
   "cell_type": "markdown",
   "metadata": {
    "colab_type": "text",
    "id": "qbfMly4R1pqK"
   },
   "source": [
    "### Part (b) Categorical Features [1 pt]\n",
    "\n",
    "What percentage of people in our data set are male? Note that the data labels all have an unfortunate space in the beginning, e.g. \" Male\" instead of \"Male\".\n",
    "\n",
    "What percentage of people in our data set are female?"
   ]
  },
  {
   "cell_type": "code",
   "execution_count": 0,
   "metadata": {
    "colab": {
     "base_uri": "https://localhost:8080/",
     "height": 72
    },
    "colab_type": "code",
    "executionInfo": {
     "elapsed": 344,
     "status": "ok",
     "timestamp": 1583201676044,
     "user": {
      "displayName": "Xinru Li",
      "photoUrl": "",
      "userId": "03269021331369680186"
     },
     "user_tz": 300
    },
    "id": "DjAjcsB_1pqK",
    "outputId": "bd493b59-3caf-46fa-f1bc-7608a007440f"
   },
   "outputs": [
    {
     "name": "stdout",
     "output_type": "stream",
     "text": [
      "Part b\n",
      "Male %: 66.92054912318419%\n",
      "Female %: 33.07945087681583%\n"
     ]
    }
   ],
   "source": [
    "# hint: you can do something like this in pandas\n",
    "sum(df[\"sex\"] == \" Male\")\n",
    "\n",
    "\n",
    "# Part (b)\n",
    "print(\"Part b\")\n",
    "print(\"Male %: {}%\".format(sum(df[\"sex\"] == \" Male\") / len(df) * 100))\n",
    "print(\"Female %: {}%\".format(sum(df['sex'] == \" Female\") / len(df) * 100))"
   ]
  },
  {
   "cell_type": "markdown",
   "metadata": {
    "colab_type": "text",
    "id": "eGVw7pqL1pqN"
   },
   "source": [
    "### Part (c) [2 pt]\n",
    "\n",
    "Before proceeding, we will modify our data frame in a couple more ways:\n",
    "\n",
    "1. We will restrict ourselves to using a subset of the features (to simplify our autoencoder)\n",
    "2. We will remove any records (rows) already containing missing values, and store them in a second dataframe. We will only use records without missing values to train our autoencoder.\n",
    "\n",
    "Both of these steps are done for you, below.\n",
    "\n",
    "How many records contained missing features? What percentage of records were removed?"
   ]
  },
  {
   "cell_type": "code",
   "execution_count": 0,
   "metadata": {
    "colab": {},
    "colab_type": "code",
    "id": "z6ewPUdv1pqO"
   },
   "outputs": [],
   "source": [
    "contcols = [\"age\", \"yredu\", \"capgain\", \"caploss\", \"workhr\"]\n",
    "catcols = [\"work\", \"marriage\", \"occupation\", \"edu\", \"relationship\", \"sex\"]\n",
    "features = contcols + catcols\n",
    "df = df[features]"
   ]
  },
  {
   "cell_type": "code",
   "execution_count": 0,
   "metadata": {
    "colab": {
     "base_uri": "https://localhost:8080/",
     "height": 54
    },
    "colab_type": "code",
    "executionInfo": {
     "elapsed": 313,
     "status": "ok",
     "timestamp": 1583201678590,
     "user": {
      "displayName": "Xinru Li",
      "photoUrl": "",
      "userId": "03269021331369680186"
     },
     "user_tz": 300
    },
    "id": "fjdVll5a1pqQ",
    "outputId": "0bc09ce2-b1dc-463a-b084-8c0e14b75fbf"
   },
   "outputs": [
    {
     "name": "stdout",
     "output_type": "stream",
     "text": [
      "Records with Missing Features: 1843\n",
      "Removed Records %: 5.660145572924664%\n"
     ]
    }
   ],
   "source": [
    "missing = pd.concat([df[c] == \" ?\" for c in catcols], axis=1).any(axis=1)\n",
    "df_with_missing = df[missing]\n",
    "df_not_missing = df[~missing]\n",
    "\n",
    "print(\"Records with Missing Features: {}\".format(len(df_with_missing)))\n",
    "print(\"Removed Records %: {}%\".format(len(df_with_missing) / (len(df)) * 100))"
   ]
  },
  {
   "cell_type": "markdown",
   "metadata": {
    "colab_type": "text",
    "id": "XuEpndTQ1pqU"
   },
   "source": [
    "### Part (d) One-Hot Encoding [1 pt]\n",
    "\n",
    "What are all the possible values of the feature \"work\" in `df_not_missing`? You may find the Python function `set` useful."
   ]
  },
  {
   "cell_type": "code",
   "execution_count": 0,
   "metadata": {
    "colab": {
     "base_uri": "https://localhost:8080/",
     "height": 164
    },
    "colab_type": "code",
    "executionInfo": {
     "elapsed": 316,
     "status": "ok",
     "timestamp": 1583201680311,
     "user": {
      "displayName": "Xinru Li",
      "photoUrl": "",
      "userId": "03269021331369680186"
     },
     "user_tz": 300
    },
    "id": "iKFh4owE1pqV",
    "outputId": "afe19597-74cf-456f-c512-34186b444a4d"
   },
   "outputs": [
    {
     "name": "stdout",
     "output_type": "stream",
     "text": [
      "Possible Values of the Feature \"work\" in df_not_missing:\n"
     ]
    },
    {
     "data": {
      "text/plain": [
       "{' Federal-gov',\n",
       " ' Local-gov',\n",
       " ' Private',\n",
       " ' Self-emp-inc',\n",
       " ' Self-emp-not-inc',\n",
       " ' State-gov',\n",
       " ' Without-pay'}"
      ]
     },
     "execution_count": 103,
     "metadata": {
      "tags": []
     },
     "output_type": "execute_result"
    }
   ],
   "source": [
    "print(\"Possible Values of the Feature \\\"work\\\" in df_not_missing:\")\n",
    "set(df_not_missing[\"work\"])"
   ]
  },
  {
   "cell_type": "markdown",
   "metadata": {
    "colab_type": "text",
    "id": "COv3HaKr1pqY"
   },
   "source": [
    "We will be using a one-hot encoding to represent each of the categorical variables.\n",
    "Our autoencoder will be trained using these one-hot encodings.\n",
    "\n",
    "We will use the pandas function `get_dummies` to produce one-hot encodings\n",
    "for all of the categorical variables in `df_not_missing`. "
   ]
  },
  {
   "cell_type": "code",
   "execution_count": 0,
   "metadata": {
    "colab": {},
    "colab_type": "code",
    "id": "eKlSYmJg1pqZ"
   },
   "outputs": [],
   "source": [
    "data = pd.get_dummies(df_not_missing)"
   ]
  },
  {
   "cell_type": "code",
   "execution_count": 0,
   "metadata": {
    "colab": {
     "base_uri": "https://localhost:8080/",
     "height": 233
    },
    "colab_type": "code",
    "executionInfo": {
     "elapsed": 294,
     "status": "ok",
     "timestamp": 1583201682557,
     "user": {
      "displayName": "Xinru Li",
      "photoUrl": "",
      "userId": "03269021331369680186"
     },
     "user_tz": 300
    },
    "id": "3y7nTZ7H1pqb",
    "outputId": "400f4619-46a1-4531-b4b8-ba0ba0229617",
    "scrolled": true
   },
   "outputs": [
    {
     "data": {
      "text/html": [
       "<div>\n",
       "<style scoped>\n",
       "    .dataframe tbody tr th:only-of-type {\n",
       "        vertical-align: middle;\n",
       "    }\n",
       "\n",
       "    .dataframe tbody tr th {\n",
       "        vertical-align: top;\n",
       "    }\n",
       "\n",
       "    .dataframe thead th {\n",
       "        text-align: right;\n",
       "    }\n",
       "</style>\n",
       "<table border=\"1\" class=\"dataframe\">\n",
       "  <thead>\n",
       "    <tr style=\"text-align: right;\">\n",
       "      <th></th>\n",
       "      <th>age</th>\n",
       "      <th>yredu</th>\n",
       "      <th>capgain</th>\n",
       "      <th>caploss</th>\n",
       "      <th>workhr</th>\n",
       "      <th>work_ Federal-gov</th>\n",
       "      <th>work_ Local-gov</th>\n",
       "      <th>work_ Private</th>\n",
       "      <th>work_ Self-emp-inc</th>\n",
       "      <th>work_ Self-emp-not-inc</th>\n",
       "      <th>work_ State-gov</th>\n",
       "      <th>work_ Without-pay</th>\n",
       "      <th>marriage_ Divorced</th>\n",
       "      <th>marriage_ Married-AF-spouse</th>\n",
       "      <th>marriage_ Married-civ-spouse</th>\n",
       "      <th>marriage_ Married-spouse-absent</th>\n",
       "      <th>marriage_ Never-married</th>\n",
       "      <th>marriage_ Separated</th>\n",
       "      <th>marriage_ Widowed</th>\n",
       "      <th>occupation_ Adm-clerical</th>\n",
       "      <th>occupation_ Armed-Forces</th>\n",
       "      <th>occupation_ Craft-repair</th>\n",
       "      <th>occupation_ Exec-managerial</th>\n",
       "      <th>occupation_ Farming-fishing</th>\n",
       "      <th>occupation_ Handlers-cleaners</th>\n",
       "      <th>occupation_ Machine-op-inspct</th>\n",
       "      <th>occupation_ Other-service</th>\n",
       "      <th>occupation_ Priv-house-serv</th>\n",
       "      <th>occupation_ Prof-specialty</th>\n",
       "      <th>occupation_ Protective-serv</th>\n",
       "      <th>occupation_ Sales</th>\n",
       "      <th>occupation_ Tech-support</th>\n",
       "      <th>occupation_ Transport-moving</th>\n",
       "      <th>edu_ 10th</th>\n",
       "      <th>edu_ 11th</th>\n",
       "      <th>edu_ 12th</th>\n",
       "      <th>edu_ 1st-4th</th>\n",
       "      <th>edu_ 5th-6th</th>\n",
       "      <th>edu_ 7th-8th</th>\n",
       "      <th>edu_ 9th</th>\n",
       "      <th>edu_ Assoc-acdm</th>\n",
       "      <th>edu_ Assoc-voc</th>\n",
       "      <th>edu_ Bachelors</th>\n",
       "      <th>edu_ Doctorate</th>\n",
       "      <th>edu_ HS-grad</th>\n",
       "      <th>edu_ Masters</th>\n",
       "      <th>edu_ Preschool</th>\n",
       "      <th>edu_ Prof-school</th>\n",
       "      <th>edu_ Some-college</th>\n",
       "      <th>relationship_ Husband</th>\n",
       "      <th>relationship_ Not-in-family</th>\n",
       "      <th>relationship_ Other-relative</th>\n",
       "      <th>relationship_ Own-child</th>\n",
       "      <th>relationship_ Unmarried</th>\n",
       "      <th>relationship_ Wife</th>\n",
       "      <th>sex_ Female</th>\n",
       "      <th>sex_ Male</th>\n",
       "    </tr>\n",
       "  </thead>\n",
       "  <tbody>\n",
       "    <tr>\n",
       "      <th>0</th>\n",
       "      <td>0.301370</td>\n",
       "      <td>0.800000</td>\n",
       "      <td>0.02174</td>\n",
       "      <td>0.0</td>\n",
       "      <td>0.397959</td>\n",
       "      <td>0</td>\n",
       "      <td>0</td>\n",
       "      <td>0</td>\n",
       "      <td>0</td>\n",
       "      <td>0</td>\n",
       "      <td>1</td>\n",
       "      <td>0</td>\n",
       "      <td>0</td>\n",
       "      <td>0</td>\n",
       "      <td>0</td>\n",
       "      <td>0</td>\n",
       "      <td>1</td>\n",
       "      <td>0</td>\n",
       "      <td>0</td>\n",
       "      <td>1</td>\n",
       "      <td>0</td>\n",
       "      <td>0</td>\n",
       "      <td>0</td>\n",
       "      <td>0</td>\n",
       "      <td>0</td>\n",
       "      <td>0</td>\n",
       "      <td>0</td>\n",
       "      <td>0</td>\n",
       "      <td>0</td>\n",
       "      <td>0</td>\n",
       "      <td>0</td>\n",
       "      <td>0</td>\n",
       "      <td>0</td>\n",
       "      <td>0</td>\n",
       "      <td>0</td>\n",
       "      <td>0</td>\n",
       "      <td>0</td>\n",
       "      <td>0</td>\n",
       "      <td>0</td>\n",
       "      <td>0</td>\n",
       "      <td>0</td>\n",
       "      <td>0</td>\n",
       "      <td>1</td>\n",
       "      <td>0</td>\n",
       "      <td>0</td>\n",
       "      <td>0</td>\n",
       "      <td>0</td>\n",
       "      <td>0</td>\n",
       "      <td>0</td>\n",
       "      <td>0</td>\n",
       "      <td>1</td>\n",
       "      <td>0</td>\n",
       "      <td>0</td>\n",
       "      <td>0</td>\n",
       "      <td>0</td>\n",
       "      <td>0</td>\n",
       "      <td>1</td>\n",
       "    </tr>\n",
       "    <tr>\n",
       "      <th>1</th>\n",
       "      <td>0.452055</td>\n",
       "      <td>0.800000</td>\n",
       "      <td>0.00000</td>\n",
       "      <td>0.0</td>\n",
       "      <td>0.122449</td>\n",
       "      <td>0</td>\n",
       "      <td>0</td>\n",
       "      <td>0</td>\n",
       "      <td>0</td>\n",
       "      <td>1</td>\n",
       "      <td>0</td>\n",
       "      <td>0</td>\n",
       "      <td>0</td>\n",
       "      <td>0</td>\n",
       "      <td>1</td>\n",
       "      <td>0</td>\n",
       "      <td>0</td>\n",
       "      <td>0</td>\n",
       "      <td>0</td>\n",
       "      <td>0</td>\n",
       "      <td>0</td>\n",
       "      <td>0</td>\n",
       "      <td>1</td>\n",
       "      <td>0</td>\n",
       "      <td>0</td>\n",
       "      <td>0</td>\n",
       "      <td>0</td>\n",
       "      <td>0</td>\n",
       "      <td>0</td>\n",
       "      <td>0</td>\n",
       "      <td>0</td>\n",
       "      <td>0</td>\n",
       "      <td>0</td>\n",
       "      <td>0</td>\n",
       "      <td>0</td>\n",
       "      <td>0</td>\n",
       "      <td>0</td>\n",
       "      <td>0</td>\n",
       "      <td>0</td>\n",
       "      <td>0</td>\n",
       "      <td>0</td>\n",
       "      <td>0</td>\n",
       "      <td>1</td>\n",
       "      <td>0</td>\n",
       "      <td>0</td>\n",
       "      <td>0</td>\n",
       "      <td>0</td>\n",
       "      <td>0</td>\n",
       "      <td>0</td>\n",
       "      <td>1</td>\n",
       "      <td>0</td>\n",
       "      <td>0</td>\n",
       "      <td>0</td>\n",
       "      <td>0</td>\n",
       "      <td>0</td>\n",
       "      <td>0</td>\n",
       "      <td>1</td>\n",
       "    </tr>\n",
       "    <tr>\n",
       "      <th>2</th>\n",
       "      <td>0.287671</td>\n",
       "      <td>0.533333</td>\n",
       "      <td>0.00000</td>\n",
       "      <td>0.0</td>\n",
       "      <td>0.397959</td>\n",
       "      <td>0</td>\n",
       "      <td>0</td>\n",
       "      <td>1</td>\n",
       "      <td>0</td>\n",
       "      <td>0</td>\n",
       "      <td>0</td>\n",
       "      <td>0</td>\n",
       "      <td>1</td>\n",
       "      <td>0</td>\n",
       "      <td>0</td>\n",
       "      <td>0</td>\n",
       "      <td>0</td>\n",
       "      <td>0</td>\n",
       "      <td>0</td>\n",
       "      <td>0</td>\n",
       "      <td>0</td>\n",
       "      <td>0</td>\n",
       "      <td>0</td>\n",
       "      <td>0</td>\n",
       "      <td>1</td>\n",
       "      <td>0</td>\n",
       "      <td>0</td>\n",
       "      <td>0</td>\n",
       "      <td>0</td>\n",
       "      <td>0</td>\n",
       "      <td>0</td>\n",
       "      <td>0</td>\n",
       "      <td>0</td>\n",
       "      <td>0</td>\n",
       "      <td>0</td>\n",
       "      <td>0</td>\n",
       "      <td>0</td>\n",
       "      <td>0</td>\n",
       "      <td>0</td>\n",
       "      <td>0</td>\n",
       "      <td>0</td>\n",
       "      <td>0</td>\n",
       "      <td>0</td>\n",
       "      <td>0</td>\n",
       "      <td>1</td>\n",
       "      <td>0</td>\n",
       "      <td>0</td>\n",
       "      <td>0</td>\n",
       "      <td>0</td>\n",
       "      <td>0</td>\n",
       "      <td>1</td>\n",
       "      <td>0</td>\n",
       "      <td>0</td>\n",
       "      <td>0</td>\n",
       "      <td>0</td>\n",
       "      <td>0</td>\n",
       "      <td>1</td>\n",
       "    </tr>\n",
       "  </tbody>\n",
       "</table>\n",
       "</div>"
      ],
      "text/plain": [
       "        age     yredu  capgain  ...  relationship_ Wife  sex_ Female  sex_ Male\n",
       "0  0.301370  0.800000  0.02174  ...                   0            0          1\n",
       "1  0.452055  0.800000  0.00000  ...                   0            0          1\n",
       "2  0.287671  0.533333  0.00000  ...                   0            0          1\n",
       "\n",
       "[3 rows x 57 columns]"
      ]
     },
     "execution_count": 105,
     "metadata": {
      "tags": []
     },
     "output_type": "execute_result"
    }
   ],
   "source": [
    "data[:3]"
   ]
  },
  {
   "cell_type": "markdown",
   "metadata": {
    "colab_type": "text",
    "id": "HwjDg1uM1pqe"
   },
   "source": [
    "### Part (e) One-Hot Encoding [2 pt]\n",
    "\n",
    "The dataframe `data` contains the cleaned and normalized data that we will use to train our denoising autoencoder.\n",
    "\n",
    "How many **columns** (features) are in the dataframe `data`?\n",
    "\n",
    "Briefly explain where that number come from."
   ]
  },
  {
   "cell_type": "code",
   "execution_count": 0,
   "metadata": {
    "colab": {
     "base_uri": "https://localhost:8080/",
     "height": 54
    },
    "colab_type": "code",
    "executionInfo": {
     "elapsed": 295,
     "status": "ok",
     "timestamp": 1583201685297,
     "user": {
      "displayName": "Xinru Li",
      "photoUrl": "",
      "userId": "03269021331369680186"
     },
     "user_tz": 300
    },
    "id": "yjZ5N0Tl1pqf",
    "outputId": "c4e8a1d8-862d-42e8-8dce-b785e695582b"
   },
   "outputs": [
    {
     "name": "stdout",
     "output_type": "stream",
     "text": [
      "Shape of data: (30718, 57)\n",
      "Number of Columns(Features) in dataframe data: 57\n"
     ]
    }
   ],
   "source": [
    "print(\"Shape of data: {}\".format(data.shape))\n",
    "print(\"Number of Columns(Features) in dataframe data: {}\".format(data.shape[1]))"
   ]
  },
  {
   "cell_type": "markdown",
   "metadata": {
    "colab_type": "text",
    "id": "OEJ0Ci3l1pqh"
   },
   "source": [
    "### Part (f) One-Hot Conversion [3 pt]\n",
    "\n",
    "We will convert the pandas data frame `data` into numpy, so that\n",
    "it can be further converted into a PyTorch tensor.\n",
    "However, in doing so, we lose the column label information that\n",
    "a panda data frame automatically stores.\n",
    "\n",
    "Complete the function `get_categorical_value` that will return\n",
    "the named value of a feature given a one-hot embedding.\n",
    "You may find the global variables `cat_index` and `cat_values`\n",
    "useful. (Display them and figure out what they are first.)\n",
    "\n",
    "We will need this function in the next part of the lab\n",
    "to interpret our autoencoder outputs. So, the input\n",
    "to our function `get_categorical_values` might not \n",
    "actually be \"one-hot\" -- the input may instead \n",
    "contain real-valued predictions from our neural network."
   ]
  },
  {
   "cell_type": "code",
   "execution_count": 0,
   "metadata": {
    "colab": {},
    "colab_type": "code",
    "id": "ZmovX6gu1pqi"
   },
   "outputs": [],
   "source": [
    "datanp = data.values.astype(np.float32)"
   ]
  },
  {
   "cell_type": "code",
   "execution_count": 0,
   "metadata": {
    "colab": {},
    "colab_type": "code",
    "id": "YRIa5MBd1pql"
   },
   "outputs": [],
   "source": [
    "cat_index = {}  # Mapping of feature -> start index of feature in a record\n",
    "cat_values = {} # Mapping of feature -> list of categorical values the feature can take\n",
    "\n",
    "# build up the cat_index and cat_values dictionary\n",
    "for i, header in enumerate(data.keys()):\n",
    "    if \"_\" in header: # categorical header\n",
    "        feature, value = header.split()\n",
    "        feature = feature[:-1] # remove the last char; it is always an underscore\n",
    "        if feature not in cat_index:\n",
    "            cat_index[feature] = i\n",
    "            cat_values[feature] = [value]\n",
    "        else:\n",
    "            cat_values[feature].append(value)\n",
    "\n",
    "def get_onehot(record, feature):\n",
    "    \"\"\"\n",
    "    Return the portion of `record` that is the one-hot encoding\n",
    "    of `feature`. For example, since the feature \"work\" is stored\n",
    "    in the indices [5:12] in each record, calling `get_range(record, \"work\")`\n",
    "    is equivalent to accessing `record[5:12]`.\n",
    "    \n",
    "    Args:\n",
    "        - record: a numpy array representing one record, formatted\n",
    "                  the same way as a row in `data.np`\n",
    "        - feature: a string, should be an element of `catcols`\n",
    "    \"\"\"\n",
    "    start_index = cat_index[feature]\n",
    "    stop_index = cat_index[feature] + len(cat_values[feature])\n",
    "    return record[start_index:stop_index]\n",
    "\n",
    "def get_categorical_value(onehot, feature):\n",
    "    \"\"\"\n",
    "    Return the categorical value name of a feature given\n",
    "    a one-hot vector representing the feature.\n",
    "    \n",
    "    Args:\n",
    "        - onehot: a numpy array one-hot representation of the feature\n",
    "        - feature: a string, should be an element of `catcols`\n",
    "        \n",
    "    Examples:\n",
    "    \n",
    "    >>> get_categorical_value(np.array([0., 0., 0., 0., 0., 1., 0.]), \"work\")\n",
    "    'State-gov'\n",
    "    >>> get_categorical_value(np.array([0.1, 0., 1.1, 0.2, 0., 1., 0.]), \"work\")\n",
    "    'Private'\n",
    "    \"\"\"\n",
    "    # <----- TODO: WRITE YOUR CODE HERE ----->\n",
    "    # You may find the variables `cat_index` and `cat_values` \n",
    "    # (created above) useful.\n",
    "    res = np.where(onehot == np.max(onehot))[0][0]\n",
    "    return cat_values[feature][res]\n",
    "\n",
    "\n"
   ]
  },
  {
   "cell_type": "code",
   "execution_count": 0,
   "metadata": {
    "colab": {},
    "colab_type": "code",
    "id": "T_XXxZdh1pqv"
   },
   "outputs": [],
   "source": [
    "# more useful code, used during training, that depends on the function\n",
    "# you write above\n",
    "\n",
    "def get_feature(record, feature):\n",
    "    \"\"\"\n",
    "    Return the categorical feature value of a record\n",
    "    \"\"\"\n",
    "    onehot = get_onehot(record, feature)\n",
    "    return get_categorical_value(onehot, feature)\n",
    "\n",
    "def get_features(record):\n",
    "    \"\"\"\n",
    "    Return a dictionary of all categorical feature values of a record\n",
    "    \"\"\"\n",
    "    return { f: get_feature(record, f) for f in catcols }"
   ]
  },
  {
   "cell_type": "code",
   "execution_count": 0,
   "metadata": {
    "colab": {
     "base_uri": "https://localhost:8080/",
     "height": 90
    },
    "colab_type": "code",
    "executionInfo": {
     "elapsed": 318,
     "status": "ok",
     "timestamp": 1583201694297,
     "user": {
      "displayName": "Xinru Li",
      "photoUrl": "",
      "userId": "03269021331369680186"
     },
     "user_tz": 300
    },
    "id": "df9oMDFZ15VB",
    "outputId": "b7a15d84-c17b-4e68-a2de-03a2652ddfa2"
   },
   "outputs": [
    {
     "name": "stdout",
     "output_type": "stream",
     "text": [
      "case1 : get_categorical_value(np.array([0., 0., 0., 0., 0., 1., 0.]), \"work\")\n",
      "result: State-gov\n",
      "case2 : get_categorical_value(np.array([0.1, 0., 1.1, 0.2, 0., 1., 0.]), \"work\")\n",
      "result: Private\n"
     ]
    }
   ],
   "source": [
    "# test case\n",
    "print(\"case1 : get_categorical_value(np.array([0., 0., 0., 0., 0., 1., 0.]), \\\"work\\\")\")\n",
    "print(\"result: {}\".format(get_categorical_value(np.array([0., 0., 0., 0., 0., 1., 0.]), \"work\")))\n",
    "\n",
    "print(\"case2 : get_categorical_value(np.array([0.1, 0., 1.1, 0.2, 0., 1., 0.]), \\\"work\\\")\")\n",
    "print(\"result: {}\".format(get_categorical_value(np.array([0.1, 0., 1.1, 0.2, 0., 1., 0.]), \"work\")))"
   ]
  },
  {
   "cell_type": "markdown",
   "metadata": {
    "colab_type": "text",
    "id": "1_5ZZR_J1pqy"
   },
   "source": [
    "### Part (g) Train/Test Split [3 pt]\n",
    "\n",
    "Randomly split the data into approximately 70% training, 15% validation and 15% test.\n",
    "\n",
    "Report the number of items in your training, validation, and test set."
   ]
  },
  {
   "cell_type": "code",
   "execution_count": 0,
   "metadata": {
    "colab": {
     "base_uri": "https://localhost:8080/",
     "height": 72
    },
    "colab_type": "code",
    "executionInfo": {
     "elapsed": 319,
     "status": "ok",
     "timestamp": 1583201826051,
     "user": {
      "displayName": "Xinru Li",
      "photoUrl": "",
      "userId": "03269021331369680186"
     },
     "user_tz": 300
    },
    "id": "TE_fTJJf1pqz",
    "outputId": "6a223d74-cbb4-4649-afed-870bbdc83520"
   },
   "outputs": [
    {
     "name": "stdout",
     "output_type": "stream",
     "text": [
      "Number of Items in Training Set: 21502\n",
      "Number of Items in Validation Set: 4608\n",
      "Number of Items in Test Set: 4608\n"
     ]
    }
   ],
   "source": [
    "# set the numpy seed for reproducibility\n",
    "# https://docs.scipy.org/doc/numpy/reference/generated/numpy.random.seed.html\n",
    "np.random.seed(50)\n",
    "\n",
    "# todo\n",
    "cut1 = int(len(datanp) * 0.7)\n",
    "cut2 = int(len(datanp) * 0.85)\n",
    "# print(cut1)\n",
    "# print(cut2)\n",
    "training_dataset, validation_dataset, test_dataset = np.split(datanp, [cut1, cut2])\n",
    "print(\"Number of Items in Training Set: {}\".format(len(training_dataset)))\n",
    "print(\"Number of Items in Validation Set: {}\".format(len(validation_dataset)))\n",
    "print(\"Number of Items in Test Set: {}\".format(len(test_dataset)))\n",
    "\n"
   ]
  },
  {
   "cell_type": "markdown",
   "metadata": {
    "colab_type": "text",
    "id": "h9wJAKOI1pq3"
   },
   "source": [
    "## Part 2. Model Setup [5 pt]\n",
    "\n",
    "### Part (a) [4 pt]\n",
    "\n",
    "Design a fully-connected autoencoder by modifying the `encoder` and `decoder`\n",
    "below.\n",
    "\n",
    "The input to this autoencoder will be the features of the `data`, with\n",
    "one categorical feature recorded as \"missing\". The output of the autoencoder\n",
    "should be the reconstruction of the same features, but with the missing\n",
    "value filled in.\n",
    "\n",
    "**Note**: Do not reduce the dimensionality of the input too much!\n",
    "The output of your embedding is expected to contain information \n",
    "about ~11 features."
   ]
  },
  {
   "cell_type": "code",
   "execution_count": 0,
   "metadata": {
    "colab": {},
    "colab_type": "code",
    "id": "f3F--tdn1pq3"
   },
   "outputs": [],
   "source": [
    "from torch import nn\n",
    "\n",
    "class AutoEncoder(nn.Module):\n",
    "    def __init__(self):\n",
    "        super(AutoEncoder, self).__init__()\n",
    "        self.encoder = nn.Sequential(\n",
    "            nn.Linear(57, 32), # TODO -- FILL OUT THE CODE HERE!\n",
    "            nn.ReLU(),\n",
    "            nn.Linear(32, 16)\n",
    "        )\n",
    "        self.decoder = nn.Sequential(\n",
    "            nn.Linear(16, 32), # TODO -- FILL OUT THE CODE HERE!\n",
    "            nn.ReLU(),\n",
    "            nn.Linear(32, 57),\n",
    "            nn.Sigmoid() # get to the range (0, 1)\n",
    "        )\n",
    "\n",
    "    def forward(self, x):\n",
    "        x = self.encoder(x)\n",
    "        x = self.decoder(x)\n",
    "        return x"
   ]
  },
  {
   "cell_type": "markdown",
   "metadata": {
    "colab_type": "text",
    "id": "kuEzTSAv1pq6"
   },
   "source": [
    "### Part (b) [1 pt]\n",
    "\n",
    "Explain why there is a sigmoid activation in the last step of the decoder.\n",
    "\n",
    "(**Note**: the values inside the data frame `data` and the training code in Part 3 might be helpful.)"
   ]
  },
  {
   "cell_type": "code",
   "execution_count": 0,
   "metadata": {
    "colab": {},
    "colab_type": "code",
    "id": "HFLd0S4H1pq6"
   },
   "outputs": [],
   "source": [
    "# We use sigmoid function because we want to make our output in range [0, 1] and sigmoid can give us a result in this range"
   ]
  },
  {
   "cell_type": "markdown",
   "metadata": {
    "colab_type": "text",
    "id": "jYwqFWVl1pq8"
   },
   "source": [
    "## Part 3. Training [18] \n",
    "\n",
    "### Part (a) [6 pt]\n",
    "\n",
    "We will train our autoencoder in the following way:\n",
    "\n",
    "- In each iteration, we will hide one of the categorical features using the `zero_out_random_features` function\n",
    "- We will pass the data with one missing feature through the autoencoder, and obtain a reconstruction\n",
    "- We will check how close the reconstruction is compared to the original data -- including the value of the missing feature\n",
    "\n",
    "Complete the code to train the autoencoder, and plot the training and validation loss every few iterations.\n",
    "You may also want to plot training and validation \"accuracy\" every few iterations, as we will define in\n",
    "part (b). You may also want to checkpoint your model every few iterations or epochs.\n",
    "\n",
    "Use `nn.MSELoss()` as your loss function. (Side note: you might recognize that this loss function is not\n",
    "ideal for this problem, but we will use it anyway.)"
   ]
  },
  {
   "cell_type": "code",
   "execution_count": 0,
   "metadata": {
    "colab": {},
    "colab_type": "code",
    "id": "IDQA_-dS1pq9"
   },
   "outputs": [],
   "source": [
    "import matplotlib.pyplot as plt # for plotting\n",
    "\n",
    "\n",
    "def zero_out_feature(records, feature):\n",
    "    \"\"\" Set the feature missing in records, by setting the appropriate\n",
    "    columns of records to 0\n",
    "    \"\"\"\n",
    "    start_index = cat_index[feature]\n",
    "    stop_index = cat_index[feature] + len(cat_values[feature])\n",
    "    records[:, start_index:stop_index] = 0\n",
    "    return records\n",
    "\n",
    "def zero_out_random_feature(records):\n",
    "    \"\"\" Set one random feature missing in records, by setting the \n",
    "    appropriate columns of records to 0\n",
    "    \"\"\"\n",
    "    return zero_out_feature(records, random.choice(catcols))\n",
    "\n",
    "def train(model, train_loader, valid_loader, num_epochs=5, learning_rate=1e-4):\n",
    "    \"\"\" Training loop. You should update this.\"\"\"\n",
    "    torch.manual_seed(42)\n",
    "    criterion = nn.MSELoss()\n",
    "    optimizer = torch.optim.Adam(model.parameters(), lr=learning_rate)\n",
    "    #  code from Lab3\n",
    "    iters, losses, train_acc, val_acc = [], [], [], []\n",
    "    for epoch in range(num_epochs):\n",
    "        total_num = 0\n",
    "        train_loss = 0\n",
    "        for data in train_loader:\n",
    "            total_num += 1\n",
    "            datam = zero_out_random_feature(data.clone()) # zero out one categorical feature\n",
    "            recon = model(datam)\n",
    "            loss = criterion(recon, data)\n",
    "            loss.backward()\n",
    "            optimizer.step()\n",
    "            optimizer.zero_grad()\n",
    "            train_loss += loss\n",
    "        # code from Lab3b\n",
    "        # save the current training information\n",
    "        iters.append(epoch)\n",
    "        losses.append(float(train_loss)/total_num)             # compute *average* loss\n",
    "        train_acc.append(get_accuracy(model, train_loader)) # compute training accuracy\n",
    "        val_acc.append(get_accuracy(model, val_loader))  # compute validation accuracy\n",
    "        print(\"epoch={}, train_accuracy={}, val_accuracy={}\".format(epoch, train_acc[-1], val_acc[-1]))\n",
    "        \n",
    "        \n",
    "    # plotting\n",
    "    plt.title(\"Training Curve\")\n",
    "    plt.plot(iters, losses, label=\"Train\")\n",
    "    plt.xlabel(\"Iterations\")\n",
    "    plt.ylabel(\"Loss\")\n",
    "    plt.show()\n",
    " \n",
    "    plt.title(\"Training Curve\")\n",
    "    plt.plot(iters, train_acc, label=\"Train\")\n",
    "    plt.plot(iters, val_acc, label=\"Validation\")\n",
    "    plt.xlabel(\"Iterations\")\n",
    "    plt.ylabel(\"Training Accuracy\")\n",
    "    plt.legend(loc='best')\n",
    "    plt.show()\n",
    " \n",
    "    print(\"Final Training Accuracy: {}\".format(train_acc[-1]))\n",
    "    print(\"Final Validation Accuracy: {}\".format(val_acc[-1]))\n",
    "\n"
   ]
  },
  {
   "cell_type": "markdown",
   "metadata": {
    "colab_type": "text",
    "id": "WKk01pwx1pq_"
   },
   "source": [
    "### Part (b) [3 pt]\n",
    "\n",
    "While plotting training and validation loss is valuable, loss values are harder to compare\n",
    "than accuracy percentages. It would be nice to have a measure of \"accuracy\" in this problem.\n",
    "\n",
    "Since we will only be imputing missing categorical values, we will define an accuracy measure.\n",
    "For each record and for each categorical feature, we determine whether\n",
    "the model can predict the categorical feature given all the other features of the record.\n",
    "\n",
    "A function `get_accuracy` is written for you. It is up to you to figure out how to\n",
    "use the function. **You don't need to submit anything in this part.**\n",
    "To earn the marks, correctly plot the training and validation accuracy every few \n",
    "iterations as part of your training curve."
   ]
  },
  {
   "cell_type": "code",
   "execution_count": 0,
   "metadata": {
    "colab": {},
    "colab_type": "code",
    "id": "bHWLfCzM1pq_"
   },
   "outputs": [],
   "source": [
    "def get_accuracy(model, data_loader):\n",
    "    \"\"\"Return the \"accuracy\" of the autoencoder model across a data set.\n",
    "    That is, for each record and for each categorical feature, \n",
    "    we determine whether the model can successfully predict the value\n",
    "    of the categorical feature given all the other features of the \n",
    "    record. The returned \"accuracy\" measure is the percentage of times \n",
    "    that our model is successful.\n",
    "        \n",
    "    Args:\n",
    "       - model: the autoencoder model, an instance of nn.Module\n",
    "       - data_loader: an instance of torch.utils.data.DataLoader\n",
    "\n",
    "    Example (to illustrate how get_accuracy is intended to be called.\n",
    "             Depending on your variable naming this code might require\n",
    "             modification.)\n",
    "\n",
    "        >>> model = AutoEncoder()\n",
    "        >>> vdl = torch.utils.data.DataLoader(data_valid, batch_size=256, shuffle=True)\n",
    "        >>> get_accuracy(model, vdl)\n",
    "    \"\"\"\n",
    "    total = 0\n",
    "    acc = 0\n",
    "    for col in catcols:\n",
    "        for item in data_loader: # minibatches\n",
    "            inp = item.detach().numpy()\n",
    "            out = model(zero_out_feature(item.clone(), col)).detach().numpy()\n",
    "            for i in range(out.shape[0]): # record in minibatch\n",
    "                acc += int(get_feature(out[i], col) == get_feature(inp[i], col))\n",
    "                total += 1\n",
    "    return acc / total"
   ]
  },
  {
   "cell_type": "markdown",
   "metadata": {
    "colab_type": "text",
    "id": "SxCTlXoV1prB"
   },
   "source": [
    "### Part (c) [4 pt]\n",
    "\n",
    "Run your updated training code, using reasonable initial hyperparameters.\n",
    "\n",
    "Include your training curve in your submission."
   ]
  },
  {
   "cell_type": "code",
   "execution_count": 0,
   "metadata": {
    "colab": {
     "base_uri": "https://localhost:8080/",
     "height": 720
    },
    "colab_type": "code",
    "executionInfo": {
     "elapsed": 34966,
     "status": "ok",
     "timestamp": 1583202032839,
     "user": {
      "displayName": "Xinru Li",
      "photoUrl": "",
      "userId": "03269021331369680186"
     },
     "user_tz": 300
    },
    "id": "nj5b71l-1prC",
    "outputId": "e06d7b6b-85fc-4329-c659-349f403a9f95"
   },
   "outputs": [
    {
     "name": "stdout",
     "output_type": "stream",
     "text": [
      "epoch=0, train_accuracy=0.5507549685300592, val_accuracy=0.5495876736111112\n",
      "epoch=1, train_accuracy=0.5861315226490559, val_accuracy=0.5872757523148148\n",
      "epoch=2, train_accuracy=0.6036182680680867, val_accuracy=0.6019241898148148\n",
      "epoch=3, train_accuracy=0.6064862183362788, val_accuracy=0.6065176504629629\n",
      "epoch=4, train_accuracy=0.6054165503984126, val_accuracy=0.6064814814814815\n",
      "epoch=5, train_accuracy=0.6108579046910365, val_accuracy=0.6090133101851852\n"
     ]
    },
    {
     "data": {
      "image/png": "[encoded data removed]",
      "text/plain": [
       "<Figure size 432x288 with 1 Axes>"
      ]
     },
     "metadata": {
      "tags": []
     },
     "output_type": "display_data"
    },
    {
     "data": {
      "image/png": "[encoded data removed]",
      "text/plain": [
       "<Figure size 432x288 with 1 Axes>"
      ]
     },
     "metadata": {
      "tags": []
     },
     "output_type": "display_data"
    },
    {
     "name": "stdout",
     "output_type": "stream",
     "text": [
      "Final Training Accuracy: 0.6108579046910365\n",
      "Final Validation Accuracy: 0.6090133101851852\n"
     ]
    }
   ],
   "source": [
    "model = AutoEncoder()\n",
    "# code from Lab3\n",
    "\n",
    "train_loader = torch.utils.data.DataLoader(training_dataset, batch_size=64, shuffle=True)\n",
    "val_loader = torch.utils.data.DataLoader(validation_dataset, batch_size=64, shuffle=True)\n",
    "train(model, train_loader, val_loader, num_epochs=6, learning_rate=0.001)\n",
    "\n",
    "# Final Training Accuracy: 0.6108579046910365\n",
    "# Final Validation Accuracy: 0.6090133101851852\n"
   ]
  },
  {
   "cell_type": "markdown",
   "metadata": {
    "colab_type": "text",
    "id": "h9xTwIf51prF"
   },
   "source": [
    "### Part (d) [5 pt]\n",
    "\n",
    "Tune your hyperparameters, training at least 4 different models (4 sets of hyperparameters).\n",
    "\n",
    "Do not include all your training curves. Instead, explain what hyperparameters\n",
    "you tried, what their effect was, and what your thought process was as you \n",
    "chose the next set of hyperparameters to try."
   ]
  },
  {
   "cell_type": "code",
   "execution_count": 0,
   "metadata": {
    "colab": {},
    "colab_type": "code",
    "id": "AEgtZGWpNYQ-"
   },
   "outputs": [],
   "source": [
    "#  model1\n",
    "model = AutoEncoder()\n",
    "# code from Lab3\n",
    "train_loader = torch.utils.data.DataLoader(training_dataset, batch_size=64, shuffle=True)\n",
    "val_loader = torch.utils.data.DataLoader(validation_dataset, batch_size=64, shuffle=True)\n",
    "train(model, train_loader, val_loader, num_epochs=6, learning_rate=0.0001)\n",
    "\n",
    "# I make the learning_rate smaller to reduce noise.\n",
    "# the curve is smoothier\n",
    "# the model starts overfit after the third epoch\n",
    "# the training and validation accuracy is worser compared to part(c)\n",
    "# Final Training Accuracy: 0.4720026044088922\n",
    "# Final Validation Accuracy: 0.47153501157407407"
   ]
  },
  {
   "cell_type": "code",
   "execution_count": 0,
   "metadata": {
    "colab": {},
    "colab_type": "code",
    "id": "SLEV6P2hOeWz"
   },
   "outputs": [],
   "source": [
    "#  model2\n",
    "model = AutoEncoder()\n",
    "# code from Lab3\n",
    "train_loader = torch.utils.data.DataLoader(training_dataset, batch_size=256, shuffle=True)\n",
    "val_loader = torch.utils.data.DataLoader(validation_dataset, batch_size=256, shuffle=True)\n",
    "train(model, train_loader, val_loader, num_epochs=8, learning_rate=0.001)\n",
    "\n",
    "# I increase the batch_size to reduce noise\n",
    "# the curve is smoothier compared to model in part(c)\n",
    "# the model starts overfit from the second epoch\n",
    "# the training and validation accuracy is worser compared to model1\n",
    "# Final Training Accuracy: 0.5955802561002077\n",
    "# Final Validation Accuracy: 0.5945457175925926"
   ]
  },
  {
   "cell_type": "code",
   "execution_count": 0,
   "metadata": {
    "colab": {},
    "colab_type": "code",
    "id": "4dVVMBMOQgMz"
   },
   "outputs": [],
   "source": [
    "# model3\n",
    "class AutoEncoder_1(nn.Module):\n",
    "    def __init__(self):\n",
    "        super(AutoEncoder_1, self).__init__()\n",
    "        self.encoder = nn.Sequential(\n",
    "            nn.Linear(57, 36), # TODO -- FILL OUT THE CODE HERE!\n",
    "            nn.ReLU(),\n",
    "            nn.Linear(36, 24),\n",
    "            nn.ReLU(),\n",
    "            nn.Linear(24, 16)\n",
    "        )\n",
    "        self.decoder = nn.Sequential(\n",
    "            nn.Linear(16, 24),\n",
    "            nn.ReLU(),       \n",
    "            nn.Linear(24, 36), # TODO -- FILL OUT THE CODE HERE!\n",
    "            nn.ReLU(),\n",
    "            nn.Linear(36, 57),\n",
    "            nn.Sigmoid() # get to the range (0, 1)\n",
    "        )\n",
    "\n",
    "    def forward(self, x):\n",
    "        x = self.encoder(x)\n",
    "        x = self.decoder(x)\n",
    "        return x\n",
    "\n",
    "model = AutoEncoder_1()\n",
    "\n",
    "train_loader = torch.utils.data.DataLoader(training_dataset, batch_size=64, shuffle=True)\n",
    "val_loader = torch.utils.data.DataLoader(validation_dataset, batch_size=64, shuffle=True)\n",
    "train(model, train_loader, val_loader, num_epochs=6, learning_rate=0.001)\n",
    "\n",
    "# I increase the hidden layer in AutoEncoder(increase the complexity)\n",
    "# Final Training Accuracy: 0.620655442904536\n",
    "# Final Validation Accuracy: 0.6184534143518519\n"
   ]
  },
  {
   "cell_type": "code",
   "execution_count": 0,
   "metadata": {
    "colab": {},
    "colab_type": "code",
    "id": "ypliPAbERynb"
   },
   "outputs": [],
   "source": [
    "# model4\n",
    "class AutoEncoder_1(nn.Module):\n",
    "    def __init__(self):\n",
    "        super(AutoEncoder_1, self).__init__()\n",
    "        self.encoder = nn.Sequential(\n",
    "            nn.Linear(57, 36), # TODO -- FILL OUT THE CODE HERE!\n",
    "            nn.ReLU(),\n",
    "            nn.Linear(36, 24),\n",
    "            nn.ReLU(),\n",
    "            nn.Linear(24, 16)\n",
    "        )\n",
    "        self.decoder = nn.Sequential(\n",
    "            nn.Linear(16, 24),\n",
    "            nn.ReLU(),       \n",
    "            nn.Linear(24, 36), # TODO -- FILL OUT THE CODE HERE!\n",
    "            nn.ReLU(),\n",
    "            nn.Linear(36, 57),\n",
    "            nn.Sigmoid() # get to the range (0, 1)\n",
    "        )\n",
    "\n",
    "    def forward(self, x):\n",
    "        x = self.encoder(x)\n",
    "        x = self.decoder(x)\n",
    "        return x\n",
    "model = AutoEncoder_1()      \n",
    "train_loader = torch.utils.data.DataLoader(training_dataset, batch_size=256, shuffle=True)\n",
    "val_loader = torch.utils.data.DataLoader(validation_dataset, batch_size=256, shuffle=True)\n",
    "train(model, train_loader, val_loader, num_epochs=30, learning_rate=0.006)\n",
    "\n",
    "# I increase the hidden layer in AutoEncoder and increase batch_size to reduce noise\n",
    "# the model starts overfit from first epoch\n",
    "# Final Training Accuracy: 0.6340805506464515\n",
    "# Final Validation Accuracy: 0.6288339120370371"
   ]
  },
  {
   "cell_type": "markdown",
   "metadata": {
    "colab_type": "text",
    "id": "fgJwYerVYI85"
   },
   "source": [
    "FINAL RESULT : model 4 has the best accuracy"
   ]
  },
  {
   "cell_type": "markdown",
   "metadata": {
    "colab_type": "text",
    "id": "ymCsZH291prI"
   },
   "source": [
    "## Part 4. Testing [12 pt]\n",
    "\n",
    "### Part (a) [2 pt]\n",
    "\n",
    "Compute and report the test accuracy."
   ]
  },
  {
   "cell_type": "code",
   "execution_count": 0,
   "metadata": {
    "colab": {
     "base_uri": "https://localhost:8080/",
     "height": 35
    },
    "colab_type": "code",
    "executionInfo": {
     "elapsed": 1174,
     "status": "ok",
     "timestamp": 1583205017096,
     "user": {
      "displayName": "Xinru Li",
      "photoUrl": "",
      "userId": "03269021331369680186"
     },
     "user_tz": 300
    },
    "id": "0OkSbup91prJ",
    "outputId": "9356b210-3e93-486a-e2cc-bf00bef3ec18"
   },
   "outputs": [
    {
     "name": "stdout",
     "output_type": "stream",
     "text": [
      "Final Test Accuracy: 63.62123842592593 %\n"
     ]
    }
   ],
   "source": [
    "test_loader = torch.utils.data.DataLoader(test_dataset, batch_size=256, shuffle=True)\n",
    "test_accuracy = get_accuracy(model, test_loader)\n",
    "print(\"Final Test Accuracy: {} %\".format(test_accuracy * 100))"
   ]
  },
  {
   "cell_type": "markdown",
   "metadata": {
    "colab_type": "text",
    "id": "UEe9yt6L1prM"
   },
   "source": [
    "### Part (b) [4 pt]\n",
    "\n",
    "Based on the test accuracy alone, it is difficult to assess whether our model\n",
    "is actually performing well. We don't know whether a high accuracy is due to\n",
    "the simplicity of the problem, or if a poor accuracy is a result of the inherent\n",
    "difficulty of the problem.\n",
    "\n",
    "It is therefore very important to be able to compare our model to at least one\n",
    "alternative. In particular, we consider a simple **baseline**\n",
    "model that is not very computationally expensive. Our neural network\n",
    "should at least outperform this baseline model. If our network is not much\n",
    "better than the baseline, then it is not doing well.\n",
    "\n",
    "For our data imputation problem, consider the following baseline model:\n",
    "to predict a missing feature, the baseline model will look at the **most common value** of the feature in the training set. \n",
    "\n",
    "For example, if the feature \"marriage\" is missing, then this model's prediction will be the most common value for \"marriage\" in the training set, which happens to be \"Married-civ-spouse\".\n",
    "\n",
    "What would be the test accuracy of this baseline model?\n"
   ]
  },
  {
   "cell_type": "code",
   "execution_count": 0,
   "metadata": {
    "colab": {
     "base_uri": "https://localhost:8080/",
     "height": 127
    },
    "colab_type": "code",
    "executionInfo": {
     "elapsed": 2475,
     "status": "ok",
     "timestamp": 1583205918012,
     "user": {
      "displayName": "Xinru Li",
      "photoUrl": "",
      "userId": "03269021331369680186"
     },
     "user_tz": 300
    },
    "id": "p45VHp011prN",
    "outputId": "4859eb5f-ed02-4b87-e8e0-dcaf32ef9087"
   },
   "outputs": [
    {
     "name": "stdout",
     "output_type": "stream",
     "text": [
      "work :  Private\n",
      "marriage :  Married-civ-spouse\n",
      "occupation :  Prof-specialty\n",
      "edu :  HS-grad\n",
      "relationship :  Husband\n",
      "sex :  Male\n"
     ]
    }
   ],
   "source": [
    "from collections import Counter\n",
    "baseline = {}\n",
    "for c in catcols:\n",
    "  cset = []\n",
    "  for n in train_loader:\n",
    "    tmp = n.numpy()\n",
    "    for i in range(tmp.shape[0]):\n",
    "      cset.append(get_feature(tmp[i], c))\n",
    "  common_item = Counter(cset)\n",
    "  baseline[c] = common_item.most_common(1)[0][0]\n",
    "  print(c, \": \", baseline[c])"
   ]
  },
  {
   "cell_type": "code",
   "execution_count": 0,
   "metadata": {
    "colab": {
     "base_uri": "https://localhost:8080/",
     "height": 35
    },
    "colab_type": "code",
    "executionInfo": {
     "elapsed": 330,
     "status": "ok",
     "timestamp": 1583206641928,
     "user": {
      "displayName": "Xinru Li",
      "photoUrl": "",
      "userId": "03269021331369680186"
     },
     "user_tz": 300
    },
    "id": "THxwPmhnbWE8",
    "outputId": "e7a02a5f-e14a-4d83-ba7d-235c9230fafb"
   },
   "outputs": [
    {
     "name": "stdout",
     "output_type": "stream",
     "text": [
      "The Test Accuracy of baseline model is: 45.920415825683094 %\n"
     ]
    }
   ],
   "source": [
    "def zero_out_feature_1(records, feature):\n",
    "    \"\"\" Set the feature missing in records, by setting the appropriate\n",
    "    columns of records to 0\n",
    "    \"\"\"\n",
    "    start_index = cat_index[feature]\n",
    "    stop_index = cat_index[feature] + len(cat_values[feature])\n",
    "    records[:, start_index:stop_index] = 0\n",
    "    return records, feature\n",
    "\n",
    "def get_baseline_accuracy(data_loader):\n",
    "\n",
    "    total = 0\n",
    "    acc = 0\n",
    "    for col in catcols:\n",
    "        for item in data_loader: # minibatches\n",
    "            inp = item.detach().numpy()\n",
    "            out_tmp, tmp = zero_out_feature_1(item.clone(), col)\n",
    "            out = out_tmp.detach().numpy()\n",
    "            for i in range(out.shape[0]): # record in minibatch\n",
    "                if (col != tmp):\n",
    "                  acc += int(get_feature(out[i], col) == get_feature(inp[i], col))\n",
    "                else:\n",
    "                  acc += int(baseline[tmp]) == get_feature(inp[i], col))\n",
    "                total += 1\n",
    "    return acc / total\n",
    "\n",
    "print(\"The Test Accuracy of baseline model is: {} %\".format(get_baseline_accuracy(test_loader) * 100)) # way 1 : use get_baseline_accuracy function\n",
    "\n",
    "#############################################################################################################################################################\n",
    "\n",
    "# work_acc = sum(df_not_missing[\"work\"] == \" Private\") / len(df_not_missing)\n",
    "# marriage_acc = sum(df_not_missing[\"marriage\"] == \" Married-civ-spouse\") / len(df_not_missing)\n",
    "# occupation_acc = sum(df_not_missing[\"occupation\"] == \" Prof-specialty\") / len(df_not_missing)\n",
    "# edu_acc = sum(df_not_missing[\"edu\"] == \" HS-grad\") / len(df_not_missing)\n",
    "# relationship_acc = sum(df_not_missing[\"relationship\"] == \" Husband\") / len(df_not_missing)\n",
    "# sex_acc = sum(df_not_missing[\"sex\"] == \" Male\") / len(df_not_missing)\n",
    "\n",
    "# print(\"The Test Accuracy of baseline model is: {} %\".format((work_acc + marriage_acc + occupation_acc + edu_acc + relationship_acc + sex_acc) / 6 * 100))"
   ]
  },
  {
   "cell_type": "markdown",
   "metadata": {
    "colab_type": "text",
    "id": "QlHu0wxh1prP"
   },
   "source": [
    "### Part (c) [1 pt]\n",
    "\n",
    "How does your test accuracy from part (a) compared to your basline test accuracy in part (b)?"
   ]
  },
  {
   "cell_type": "code",
   "execution_count": 0,
   "metadata": {
    "colab": {},
    "colab_type": "code",
    "id": "1KQdwE_n1prQ"
   },
   "outputs": [],
   "source": [
    "# The test accuracy of the model in part(a) is 63.62%\n",
    "# and the test accuracy of baseline model is 45.92%\n",
    "# compared to baseline model, autoencoder has a higher test accuracy"
   ]
  },
  {
   "cell_type": "markdown",
   "metadata": {
    "colab_type": "text",
    "id": "DfQPgu1Q1prS"
   },
   "source": [
    "### Part (d) [1 pt]\n",
    "\n",
    "Look at the first item in your test data. \n",
    "Do you think it is reasonable for a human\n",
    "to be able to guess this person's education level\n",
    "based on their other features? Explain."
   ]
  },
  {
   "cell_type": "code",
   "execution_count": 0,
   "metadata": {
    "colab": {
     "base_uri": "https://localhost:8080/",
     "height": 146
    },
    "colab_type": "code",
    "executionInfo": {
     "elapsed": 535,
     "status": "ok",
     "timestamp": 1583206780157,
     "user": {
      "displayName": "Xinru Li",
      "photoUrl": "",
      "userId": "03269021331369680186"
     },
     "user_tz": 300
    },
    "id": "3qbQ1vvT1prT",
    "outputId": "c7d571b9-66c8-4aeb-e445-a92f85017253"
   },
   "outputs": [
    {
     "name": "stdout",
     "output_type": "stream",
     "text": [
      "the first item in test data: \n"
     ]
    },
    {
     "data": {
      "text/plain": [
       "{'edu': 'Bachelors',\n",
       " 'marriage': 'Never-married',\n",
       " 'occupation': 'Prof-specialty',\n",
       " 'relationship': 'Not-in-family',\n",
       " 'sex': 'Female',\n",
       " 'work': 'Private'}"
      ]
     },
     "execution_count": 180,
     "metadata": {
      "tags": []
     },
     "output_type": "execute_result"
    }
   ],
   "source": [
    "print(\"the first item in test data: \")\n",
    "get_features(test_dataset[0])\n",
    "# In this specific case, this one's work is private, but the occupation is Prof-specialty, based on this feature\n",
    "# we can deduct the education level of this one to be at least HS-grad "
   ]
  },
  {
   "cell_type": "markdown",
   "metadata": {
    "colab_type": "text",
    "id": "p_d5uuAY1prZ"
   },
   "source": [
    "### Part (e) [2 pt]\n",
    "\n",
    "What is your model's prediction of this person's education\n",
    "level, given their other features?\n"
   ]
  },
  {
   "cell_type": "code",
   "execution_count": 0,
   "metadata": {
    "colab": {
     "base_uri": "https://localhost:8080/",
     "height": 35
    },
    "colab_type": "code",
    "executionInfo": {
     "elapsed": 321,
     "status": "ok",
     "timestamp": 1583207744809,
     "user": {
      "displayName": "Xinru Li",
      "photoUrl": "",
      "userId": "03269021331369680186"
     },
     "user_tz": 300
    },
    "id": "kBY5gKXR1pra",
    "outputId": "d7018edf-18c2-4b99-fb33-57a4e57df186"
   },
   "outputs": [
    {
     "name": "stdout",
     "output_type": "stream",
     "text": [
      "Bachelors\n"
     ]
    }
   ],
   "source": [
    "# use code from get_accuracy()\n",
    "for item in test_loader: # minibatches\n",
    "  inp = item.detach().numpy()\n",
    "  out = model(zero_out_feature(item.clone(), \"edu\")).detach().numpy()\n",
    "  for i in range(out.shape[0]): # record in minibatch\n",
    "    print(get_feature(out[i], \"edu\"))\n",
    "    break\n",
    "  break\n",
    "\n",
    "# my model predict the person's education level correctly"
   ]
  },
  {
   "cell_type": "markdown",
   "metadata": {
    "colab_type": "text",
    "id": "fdLNA0ce1prd"
   },
   "source": [
    "### Part (f) [2 pt]\n",
    "\n",
    "What is the baseline model's prediction\n",
    "of this person's education level?"
   ]
  },
  {
   "cell_type": "code",
   "execution_count": 0,
   "metadata": {
    "colab": {
     "base_uri": "https://localhost:8080/",
     "height": 35
    },
    "colab_type": "code",
    "executionInfo": {
     "elapsed": 314,
     "status": "ok",
     "timestamp": 1583207775088,
     "user": {
      "displayName": "Xinru Li",
      "photoUrl": "",
      "userId": "03269021331369680186"
     },
     "user_tz": 300
    },
    "id": "TXgoM9qk1prd",
    "outputId": "968e0943-804b-4f15-e588-4376d71321a0"
   },
   "outputs": [
    {
     "data": {
      "text/plain": [
       "'HS-grad'"
      ]
     },
     "execution_count": 200,
     "metadata": {
      "tags": []
     },
     "output_type": "execute_result"
    }
   ],
   "source": [
    "baseline[\"edu\"]"
   ]
  }
 ],
 "metadata": {
  "colab": {
   "collapsed_sections": [
    "HwjDg1uM1pqe",
    "OEJ0Ci3l1pqh",
    "1_5ZZR_J1pqy",
    "WKk01pwx1pq_",
    "SxCTlXoV1prB",
    "h9xTwIf51prF",
    "UEe9yt6L1prM",
    "QlHu0wxh1prP",
    "DfQPgu1Q1prS",
    "p_d5uuAY1prZ",
    "fdLNA0ce1prd"
   ],
   "name": "Lab_4_Data_Imputation.ipynb",
   "provenance": []
  },
  "kernelspec": {
   "display_name": "Python 3 (ipykernel)",
   "language": "python",
   "name": "python3"
  },
  "language_info": {
   "codemirror_mode": {
    "name": "ipython",
    "version": 3
   },
   "file_extension": ".py",
   "mimetype": "text/x-python",
   "name": "python",
   "nbconvert_exporter": "python",
   "pygments_lexer": "ipython3",
   "version": "3.8.10"
  }
 },
 "nbformat": 4,
 "nbformat_minor": 1
}
