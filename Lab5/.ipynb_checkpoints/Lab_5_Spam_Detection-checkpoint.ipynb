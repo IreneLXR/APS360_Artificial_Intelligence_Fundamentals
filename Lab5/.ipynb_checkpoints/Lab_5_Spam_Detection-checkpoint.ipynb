{
 "cells": [
  {
   "cell_type": "markdown",
   "metadata": {
    "id": "_bphECiUa9zw"
   },
   "source": [
    "# Lab 5: Spam Detection\n",
    "\n",
    "**Deadline**: Thursday, March 12, 11:59pm\n",
    "\n",
    "**Late Penalty**: There is a penalty-free grace period of one hour past the deadline. Any work that is submitted between 1 hour and 24 hours past the deadline will receive a 20% grade deduction. No other late work is accepted. Quercus submission time will be used, not your local computer time. You can submit your labs as many times as you want before the deadline, so please submit often and early.\n",
    "\n",
    "**TA**: Karthik Bhaskar \n",
    "\n",
    "In this assignment, we will build a recurrent neural network to classify a SMS text message\n",
    "as \"spam\" or \"not spam\". In the process, you will\n",
    "    \n",
    "1. Clean and process text data for machine learning.\n",
    "2. Understand and implement a character-level recurrent neural network.\n",
    "3. Use torchtext to build recurrent neural network models.\n",
    "4. Understand batching for a recurrent neural network, and use torchtext to implement RNN batching.\n",
    "\n",
    "### What to submit\n",
    "\n",
    "Submit a PDF file containing all your code, outputs, and write-up. You can produce a PDF of your Google Colab file by going to File > Print and then save as PDF. The Colab instructions have more information (.html files are also acceptable).\n",
    "\n",
    "Do not submit any other files produced by your code.\n",
    "\n",
    "Include a link to your colab file in your submission."
   ]
  },
  {
   "cell_type": "markdown",
   "metadata": {
    "id": "rWiUqJJTa9z6"
   },
   "source": [
    "## Colab Link\n",
    "\n",
    "Include a link to your Colab file here. If you would like the TA to look at your\n",
    "Colab file in case your solutions are cut off, **please make sure that your Colab\n",
    "file is publicly accessible at the time of submission**.\n",
    "\n",
    "Colab Link: https://drive.google.com/file/d/1bg8_7irF7Qm0CnITmTt5fxfX_WlvFovt/view?usp=sharing"
   ]
  },
  {
   "cell_type": "code",
   "execution_count": null,
   "metadata": {
    "id": "HgfNOUaPa9z8"
   },
   "outputs": [],
   "source": [
    "import torch\n",
    "import torch.nn as nn\n",
    "import torch.nn.functional as F\n",
    "import torch.optim as optim\n",
    "import numpy as np\n",
    "from pprint import pprint"
   ]
  },
  {
   "cell_type": "markdown",
   "metadata": {
    "id": "M0jLI9LBa90C"
   },
   "source": [
    "## Part 1. Data Cleaning [15 pt]\n",
    "\n",
    "We will be using the \"SMS Spam Collection Data Set\" available at http://archive.ics.uci.edu/ml/datasets/SMS+Spam+Collection\n",
    "\n",
    "There is a link to download the \"Data Folder\" at the very top of the webpage. Download the zip file, unzip it, and upload the file `SMSSpamCollection` to Colab.    "
   ]
  },
  {
   "cell_type": "markdown",
   "metadata": {
    "id": "sSuF7C_Ga90E"
   },
   "source": [
    "### Part (a) [2 pt]\n",
    "\n",
    "Open up the file in Python, and print out one example of a spam SMS, and one example of a non-spam SMS.\n",
    "\n",
    "What is the label value for a spam message, and what is the label value for a non-spam message?"
   ]
  },
  {
   "cell_type": "code",
   "execution_count": null,
   "metadata": {
    "colab": {
     "base_uri": "https://localhost:8080/",
     "height": 251
    },
    "id": "EMjYFdBSlekV",
    "outputId": "02737ce0-3ca2-43d9-a850-d41c46f87215"
   },
   "outputs": [
    {
     "name": "stdout",
     "output_type": "stream",
     "text": [
      "/root\n",
      "/root/Documents/APS360/lab5\n",
      "--2020-03-10 00:15:10--  http://archive.ics.uci.edu/ml/machine-learning-databases/00228/smsspamcollection.zip\n",
      "Resolving archive.ics.uci.edu (archive.ics.uci.edu)... 128.195.10.252\n",
      "Connecting to archive.ics.uci.edu (archive.ics.uci.edu)|128.195.10.252|:80... connected.\n",
      "HTTP request sent, awaiting response... 200 OK\n",
      "Length: 203415 (199K) [application/x-httpd-php]\n",
      "Saving to: ‘smsspamcollection.zip’\n",
      "\n",
      "smsspamcollection.z 100%[===================>] 198.65K   885KB/s    in 0.2s    \n",
      "\n",
      "2020-03-10 00:15:10 (885 KB/s) - ‘smsspamcollection.zip’ saved [203415/203415]\n",
      "\n"
     ]
    }
   ],
   "source": [
    "# Download dataset\n",
    "%cd ~\n",
    "%mkdir -p Documents/APS360\n",
    "%mkdir -p Documents/APS360/lab5\n",
    "%cd Documents/APS360/lab5\n",
    "!wget http://archive.ics.uci.edu/ml/machine-learning-databases/00228/smsspamcollection.zip"
   ]
  },
  {
   "cell_type": "code",
   "execution_count": null,
   "metadata": {
    "colab": {
     "base_uri": "https://localhost:8080/",
     "height": 71
    },
    "id": "YIOAj8XMmhO0",
    "outputId": "ef549282-7cc7-4546-8340-66e4eb034a78"
   },
   "outputs": [
    {
     "name": "stdout",
     "output_type": "stream",
     "text": [
      "Archive:  smsspamcollection.zip\n",
      "  inflating: SMSSpamCollection       \n",
      "  inflating: readme                  \n"
     ]
    }
   ],
   "source": [
    "# unzip\n",
    "!unzip *"
   ]
  },
  {
   "cell_type": "code",
   "execution_count": null,
   "metadata": {
    "colab": {
     "base_uri": "https://localhost:8080/",
     "height": 109
    },
    "id": "I_IfXHeTa90F",
    "outputId": "d1d3092d-30b3-45c0-cef4-f9fcc7fb3fe6"
   },
   "outputs": [
    {
     "name": "stdout",
     "output_type": "stream",
     "text": [
      "label of spam is \"spam\"\n",
      "Example: [\"Free entry in 2 a wkly comp to win FA Cup final tkts 21st May 2005. Text FA to 87121 to receive entry question(std txt rate)T&C's apply 08452810075over18's\", 'spam']\n",
      "label of non-spam message is \"ham\"\n",
      "Example: ['Go until jurong point, crazy.. Available only in bugis n great world la e buffet... Cine there got amore wat...', 'ham']\n"
     ]
    }
   ],
   "source": [
    "texts = []\n",
    "for line in open('SMSSpamCollection'):\n",
    "    data = line.strip().split('\\t')\n",
    "    data.reverse()\n",
    "    texts.append(data)\n",
    "\n",
    "print('label of spam is \"spam\"\\nExample:', end=' ')\n",
    "print(tuple(filter(lambda d: d[1]=='spam', texts))[0])\n",
    "print('label of non-spam message is \"ham\"\\nExample:', end=' ')\n",
    "print(tuple(filter(lambda d: d[1]!='spam', texts))[0])"
   ]
  },
  {
   "cell_type": "markdown",
   "metadata": {
    "id": "AukA6vMVa90d"
   },
   "source": [
    "### Part (b) [1 pt]\n",
    "\n",
    "How many spam messages are there in the data set?\n",
    "How many non-spam messages are there in the data set?\n"
   ]
  },
  {
   "cell_type": "code",
   "execution_count": null,
   "metadata": {
    "colab": {
     "base_uri": "https://localhost:8080/",
     "height": 53
    },
    "id": "LgsqyemVa90e",
    "outputId": "30d7cc2b-59a2-43b8-ae17-d6e3ac48ac66"
   },
   "outputs": [
    {
     "name": "stdout",
     "output_type": "stream",
     "text": [
      "Number of spam messages:\t 747\n",
      "Number of non-spam messages:\t 4827\n"
     ]
    }
   ],
   "source": [
    "n_spam = sum(map(lambda d: 1 if d[1]=='spam' else 0, texts))\n",
    "n_non_spam = sum(map(lambda d: 1 if d[1]!='spam' else 0, texts))\n",
    "print('Number of spam messages:\\t', n_spam)\n",
    "print('Number of non-spam messages:\\t', n_non_spam)"
   ]
  },
  {
   "cell_type": "markdown",
   "metadata": {
    "id": "d1WXxVt6a90h"
   },
   "source": [
    "### Part (c) [4 pt]\n",
    "\n",
    "We will be using the package `torchtext` to load, process, and batch the data.\n",
    "A tutorial to torchtext is available below. This tutorial uses the same\n",
    "Sentiment140 data set that we explored during lecture.\n",
    "\n",
    "https://medium.com/@sonicboom8/sentiment-analysis-torchtext-55fb57b1fab8\n",
    "\n",
    "Unlike what we did during lecture, we will be building a **character level RNN**.\n",
    "That is, we will treat each **character** as a token in our sequence,\n",
    "rather than each **word**.\n",
    "\n",
    "Identify two advantage and two disadvantage of modelling SMS text\n",
    "messages as a sequence of characters rather than a sequence of words."
   ]
  },
  {
   "cell_type": "code",
   "execution_count": null,
   "metadata": {
    "id": "Mhnz8Nk-a90i"
   },
   "outputs": [],
   "source": [
    "# Advantage 1: the working discrete space is much smaller. There are less than \n",
    "#   100 different chars in English, so we need a smaller memory\n",
    "# Advantage 2: character level RNN may possibly recognize mispelled words\n",
    "\n",
    "# Disadvantage 1: higher computational cost because char-based RNN requires bigger\n",
    "#   hidden layer\n",
    "# Disadvantage 2: char-based RNN has relative lower accuracy"
   ]
  },
  {
   "cell_type": "markdown",
   "metadata": {
    "id": "ie_D0bv9a90k"
   },
   "source": [
    "### Part (d) [1 pt]\n",
    "\n",
    "We will be loading our data set using `torchtext.data.TabularDataset`. The\n",
    "constructor will read directly from the `SMSSpamCollection` file. \n",
    "\n",
    "For the data file to be read successfuly, we\n",
    "need to specify the **fields** (columns) in the file. \n",
    "In our case, the dataset has two fields: \n",
    "\n",
    "- a text field containing the sms messages,\n",
    "- a label field which will be converted into a binary label.\n",
    "\n",
    "Split the dataset into `train`, `valid`, and `test`. Use a 60-20-20 split.\n",
    "You may find this torchtext API page helpful:\n",
    "https://torchtext.readthedocs.io/en/latest/data.html#dataset\n",
    "\n",
    "Hint: There is a `Dataset` method that can perform the random split for you."
   ]
  },
  {
   "cell_type": "code",
   "execution_count": null,
   "metadata": {
    "id": "P_Y6Puz9a90l"
   },
   "outputs": [],
   "source": [
    "import torchtext\n",
    "\n",
    "text_field = torchtext.data.Field(sequential=True,      # text sequence\n",
    "                                  tokenize=lambda x: x, # because are building a character-RNN\n",
    "                                  include_lengths=True, # to track the length of sequences, for batching\n",
    "                                  batch_first=True,\n",
    "                                  use_vocab=True)       # to turn each character into an integer index\n",
    "label_field = torchtext.data.Field(sequential=False,    # not a sequence\n",
    "                                   use_vocab=False,     # don't need to track vocabulary\n",
    "                                   is_target=True,      \n",
    "                                   batch_first=True,\n",
    "                                   preprocessing=lambda x: int(x == 'spam')) # convert text to 0 and 1\n",
    "\n",
    "fields = [('label', label_field), ('sms', text_field)]\n",
    "dataset = torchtext.data.TabularDataset(\"SMSSpamCollection\", # name of the file\n",
    "                                        \"tsv\",               # fields are separated by a tab\n",
    "                                        fields)\n",
    "\n",
    "# dataset[0].sms\n",
    "# dataset[0].label\n",
    "# train, valid, test = ...\n",
    "train, valid, test = dataset.split([0.6, 0.2, 0.2], stratified=True)"
   ]
  },
  {
   "cell_type": "markdown",
   "metadata": {
    "id": "v6nP0Ks_a90o"
   },
   "source": [
    "### Part (e) [2 pt]\n",
    "\n",
    "You saw in part (b) that there are many more non-spam messages than spam messages.\n",
    "This **imbalance** in our training data will be problematic for training.\n",
    "We can fix this disparity by duplicating non-spam messages in the training set,\n",
    "so that the training set is roughly **balanced**.\n",
    "\n",
    "Explain why having a balanced training set is helpful for training our neural network.\n",
    "\n",
    "Note: if you are not sure, try removing the below code and train your mode."
   ]
  },
  {
   "cell_type": "code",
   "execution_count": null,
   "metadata": {
    "id": "FWvx9_rka90p"
   },
   "outputs": [],
   "source": [
    "# save the original training examples\n",
    "old_train_examples = train.examples\n",
    "# get all the spam messages in `train`\n",
    "train_spam = []\n",
    "for item in train.examples:\n",
    "    if item.label == 1:\n",
    "        train_spam.append(item)\n",
    "# duplicate each spam message 6 more times\n",
    "train.examples = old_train_examples + train_spam * 6\n",
    "\n",
    "# Imbalance training data will cause the model to overfit the non-spam set"
   ]
  },
  {
   "cell_type": "markdown",
   "metadata": {
    "id": "j7eUmBEva90r"
   },
   "source": [
    "### Part (f) [1 pt]\n",
    "\n",
    "We need to build the vocabulary on the training data by running the below code.\n",
    "This finds all the possible character tokens in the training set.\n",
    "\n",
    "Explain what the variables `text_field.vocab.stoi` and `text_field.vocab.itos` represent."
   ]
  },
  {
   "cell_type": "code",
   "execution_count": null,
   "metadata": {
    "colab": {
     "base_uri": "https://localhost:8080/",
     "height": 35
    },
    "id": "8CQM8flKa90s",
    "outputId": "0ef0cd51-c7af-4940-d88b-c3a7c5762cca"
   },
   "outputs": [
    {
     "data": {
      "text/plain": [
       "114"
      ]
     },
     "execution_count": 22,
     "metadata": {
      "tags": []
     },
     "output_type": "execute_result"
    }
   ],
   "source": [
    "text_field.build_vocab(train)\n",
    "text_field.vocab.stoi\n",
    "# stoi: string to integer\n",
    "# text_field.vocab.stoi returns a dictionary that maps each char to an assigned integer value\n",
    "\n",
    "text_field.vocab.itos\n",
    "# itos: integer to string\n",
    "# text_field.vocab.itos returns an array of chars which are indexed by their integer values"
   ]
  },
  {
   "cell_type": "markdown",
   "metadata": {
    "id": "TC8WVE8Ua90u"
   },
   "source": [
    "### Part (g) [2 pt]\n",
    "\n",
    "The tokens `<unk>` and `<pad>` were not in our SMS text messages.\n",
    "What do these two values represent?"
   ]
  },
  {
   "cell_type": "code",
   "execution_count": null,
   "metadata": {
    "id": "y_4Er7KUa90v"
   },
   "outputs": [],
   "source": [
    "# <unk> represents unknown string. The string is not recognized. (e.g. unknown vocabulary)\n",
    "# <pad> represents paddings that makes the messages equal length"
   ]
  },
  {
   "cell_type": "markdown",
   "metadata": {
    "id": "Ff5CNk7Qa90y"
   },
   "source": [
    "### Part (h) [2 pt]\n",
    "\n",
    "Since text sequences are of variable length, `torchtext` provides a `BucketIterator` data loader,\n",
    "which batches similar length sequences together. The iterator also provides functionalities to\n",
    "pad sequences automatically.\n",
    "\n",
    "Take a look at 10 batches in `train_iter`. What is the maximum length of the\n",
    "input sequence in each batch? How many `<pad>` tokens are used in each of the 10\n",
    "batches?"
   ]
  },
  {
   "cell_type": "code",
   "execution_count": null,
   "metadata": {
    "id": "V8N8qLWOa90y"
   },
   "outputs": [],
   "source": [
    "train_iter = torchtext.data.BucketIterator(train,\n",
    "                                           batch_size=32,\n",
    "                                           sort_key=lambda x: len(x.sms), # to minimize padding\n",
    "                                           sort_within_batch=True,        # sort within each batch\n",
    "                                           repeat=False)                  # repeat the iterator for many epochs"
   ]
  },
  {
   "cell_type": "code",
   "execution_count": null,
   "metadata": {
    "colab": {
     "base_uri": "https://localhost:8080/",
     "height": 737
    },
    "id": "Qwz-rOaha902",
    "outputId": "3ffe5a62-699e-48bf-d410-aba26ef1754e"
   },
   "outputs": [
    {
     "name": "stdout",
     "output_type": "stream",
     "text": [
      "Batch 1:\n",
      "\tMax length:\t73\n",
      "\t<pad> tokens:\t52\n",
      "\t\n",
      "Batch 2:\n",
      "\tMax length:\t158\n",
      "\t<pad> tokens:\t5\n",
      "\t\n",
      "Batch 3:\n",
      "\tMax length:\t66\n",
      "\t<pad> tokens:\t42\n",
      "\t\n",
      "Batch 4:\n",
      "\tMax length:\t103\n",
      "\t<pad> tokens:\t81\n",
      "\t\n",
      "Batch 5:\n",
      "\tMax length:\t28\n",
      "\t<pad> tokens:\t23\n",
      "\t\n",
      "Batch 6:\n",
      "\tMax length:\t160\n",
      "\t<pad> tokens:\t0\n",
      "\t\n",
      "Batch 7:\n",
      "\tMax length:\t27\n",
      "\t<pad> tokens:\t28\n",
      "\t\n",
      "Batch 8:\n",
      "\tMax length:\t26\n",
      "\t<pad> tokens:\t33\n",
      "\t\n",
      "Batch 9:\n",
      "\tMax length:\t148\n",
      "\t<pad> tokens:\t21\n",
      "\t\n",
      "Batch 10:\n",
      "\tMax length:\t145\n",
      "\t<pad> tokens:\t22\n",
      "\t\n"
     ]
    }
   ],
   "source": [
    "for i, batch in enumerate(train_iter):\n",
    "    if i >= 10: break\n",
    "\n",
    "    max_len = batch.sms[1].max()\n",
    "    pad = sum(map(lambda l: max_len - l, batch.sms[1]))\n",
    "    \n",
    "    print('Batch {}:\\n\\tMax length:\\t{}\\n\\t<pad> tokens:\\t{}\\n\\t'.format(\n",
    "        i + 1, max_len, pad))\n",
    "\n",
    "    # print(len(batch))\n",
    "    # print(batch.sms[1])\n",
    "    # print(batch.label)"
   ]
  },
  {
   "cell_type": "markdown",
   "metadata": {
    "id": "y7HnqP6_a904"
   },
   "source": [
    "## Part 2. Model Building [8 pt]\n",
    "\n",
    "Build a recurrent neural network model, using an architecture of your choosing. \n",
    "Use the one-hot embedding of each character as input to your recurrent network.\n",
    "Use one or more fully-connected layers to make the prediction based on your\n",
    "recurrent network output.\n",
    "\n",
    "Instead of using the RNN output value for the final token, another often used\n",
    "strategy is to max-pool over the entire output array. That is, instead of calling\n",
    "something like:\n",
    "\n",
    "```\n",
    "out, _ = self.rnn(x)\n",
    "self.fc(out[:, -1, :])\n",
    "```\n",
    "\n",
    "where `self.rnn` is an `nn.RNN`, `nn.GRU`, or `nn.LSTM` module, and `self.fc` is a \n",
    "fully-connected \n",
    "layer, we use:\n",
    "\n",
    "```\n",
    "out, _ = self.rnn(x)\n",
    "self.fc(torch.max(out, dim=1)[0])\n",
    "```\n",
    "\n",
    "This works reasonably in practice. An even better alternative is to concatenate the\n",
    "max-pooling and average-pooling of the RNN outputs:\n",
    "\n",
    "```\n",
    "out, _ = self.rnn(x)\n",
    "out = torch.cat([torch.max(out, dim=1)[0], \n",
    "                 torch.mean(out, dim=1)], dim=1)\n",
    "self.fc(out)\n",
    "```\n",
    "\n",
    "We encourage you to try out all these options. The way you pool the RNN outputs\n",
    "is one of the \"hyperparameters\" that you can choose to tune later on."
   ]
  },
  {
   "cell_type": "code",
   "execution_count": null,
   "metadata": {
    "colab": {
     "base_uri": "https://localhost:8080/",
     "height": 143
    },
    "id": "jHl1p_Wwa905",
    "outputId": "3b3def07-d8c9-4cd6-b807-0d737fb2456d"
   },
   "outputs": [
    {
     "name": "stdout",
     "output_type": "stream",
     "text": [
      "tensor([1., 0., 0., 0., 0., 0., 0., 0., 0., 0.])\n",
      "tensor([0., 1., 0., 0., 0., 0., 0., 0., 0., 0.])\n",
      "tensor([[[0., 1., 0., 0., 0., 0., 0., 0., 0., 0.],\n",
      "         [0., 0., 1., 0., 0., 0., 0., 0., 0., 0.]],\n",
      "\n",
      "        [[0., 0., 0., 1., 0., 0., 0., 0., 0., 0.],\n",
      "         [0., 0., 0., 0., 1., 0., 0., 0., 0., 0.]]])\n"
     ]
    }
   ],
   "source": [
    "# You might find this code helpful for obtaining\n",
    "# PyTorch one-hot vectors.\n",
    "\n",
    "ident = torch.eye(10)\n",
    "print(ident[0]) # one-hot vector\n",
    "print(ident[1]) # one-hot vector\n",
    "x = torch.tensor([[1, 2], [3, 4]])\n",
    "print(ident[x]) # one-hot vectors"
   ]
  },
  {
   "cell_type": "code",
   "execution_count": null,
   "metadata": {
    "id": "4LTQ7zFka909"
   },
   "outputs": [],
   "source": [
    "class SpamRNN(nn.Module):\n",
    "    def __init__(self, input_size, hidden_size, pool_method=0):\n",
    "        super(SpamRNN, self).__init__()\n",
    "        self.emb = torch.eye(input_size) # len(text_field.vocab.stoi)\n",
    "        self.hidden_size = hidden_size\n",
    "        self.rnn = nn.RNN(input_size, hidden_size, batch_first=True)\n",
    "        self.fc = nn.Linear(hidden_size * (int(pool_method ==2) + 1) , 2)\n",
    "        self.pool = self.pool_function(pool_method)\n",
    "        self.pool_method = pool_method\n",
    "    \n",
    "    def forward(self, x):\n",
    "        x = self.emb[x]\n",
    "        h0 = torch.zeros(1, x.size(0), self.hidden_size) #init state\n",
    "        out, _ = self.rnn(x, h0)\n",
    "        out = self.pool(out)\n",
    "        out = self.fc(out)\n",
    "        return out\n",
    "    \n",
    "    def pool_function(self, pool_method):\n",
    "        if pool_method == 0: return lambda out: out[:, -1, :]\n",
    "        elif pool_method == 1: return lambda out: torch.max(out, dim=1)[0]\n",
    "        else: return lambda out: torch.cat([torch.max(out, dim=1)[0], \n",
    "                torch.mean(out, dim=1)], dim=1)\n"
   ]
  },
  {
   "cell_type": "markdown",
   "metadata": {
    "id": "vKIYPl_Ba90_"
   },
   "source": [
    "## Part 3. Training [16 pt]\n",
    "\n",
    "### Part (a) [4 pt]\n",
    "\n",
    "Complete the `get_accuracy` function, which will compute the\n",
    "accuracy (rate) of your model across a dataset (e.g. validation set).\n",
    "You may modify `torchtext.data.BucketIterator` to make your computation\n",
    "faster."
   ]
  },
  {
   "cell_type": "code",
   "execution_count": null,
   "metadata": {
    "id": "pvNfhGD6a91A"
   },
   "outputs": [],
   "source": [
    "def get_accuracy(model, data):\n",
    "    \"\"\" Compute the accuracy of the `model` across a dataset `data`\n",
    "    \n",
    "    Example usage:\n",
    "    \n",
    "    >>> model = MyRNN() # to be defined\n",
    "    >>> get_accuracy(model, valid) # the variable `valid` is from above\n",
    "    \"\"\"\n",
    "    correct, total = 0, 0\n",
    "    for batch in data:\n",
    "        sms = batch.sms[0]\n",
    "        labels = batch.label\n",
    "        output = model(sms)\n",
    "        pred = output.max(1, keepdim=True)[1]\n",
    "        correct += pred.eq(labels.view_as(pred)).sum().item()\n",
    "        total += labels.shape[0]\n",
    "    \n",
    "    return correct / total"
   ]
  },
  {
   "cell_type": "markdown",
   "metadata": {
    "id": "TlxlcAC1a91C"
   },
   "source": [
    "### Part (b) [4 pt]\n",
    "\n",
    "Train your model. Plot the training curve of your final model. \n",
    "Your training curve should have the training/validation loss and\n",
    "accuracy plotted periodically.\n",
    "\n",
    "Note: Not all of your batches will have the same batch size.\n",
    "In particular, if your training set does not divide evenly by\n",
    "your batch size, there will be a batch that is smaller than\n",
    "the rest. "
   ]
  },
  {
   "cell_type": "code",
   "execution_count": null,
   "metadata": {
    "id": "_ZBGdTah3nSC"
   },
   "outputs": [],
   "source": [
    "!mkdir -p ~/Documents/APS360/lab5/models\n",
    "def get_model_name(name='SpamRNN', batch_size=32, learning_rate=0.0003, epoch=0,\n",
    "                   hidden_size=20, pool_method=0):\n",
    "    path = \"models/model_{0}_bs{1}_lr{2}_ep{3}_hs{4}_po{5}.torch\"\\\n",
    "        .format(name,batch_size,learning_rate,epoch,\n",
    "                hidden_size, pool_method)\n",
    "    return path\n",
    "\n",
    "def get_loss(model,data_loader):\n",
    "  losses = []\n",
    "  criterion = nn.CrossEntropyLoss()\n",
    "  for batch in data_loader:\n",
    "      out = model(batch.sms[0])           \n",
    "      loss = criterion(out, batch.label)\n",
    "      losses.append(float(loss))\n",
    "  \n",
    "  return sum(losses)/len(losses)"
   ]
  },
  {
   "cell_type": "code",
   "execution_count": null,
   "metadata": {
    "id": "CVtf7CJCa91D"
   },
   "outputs": [],
   "source": [
    "import matplotlib.pyplot as plt\n",
    "import time\n",
    "\n",
    "def train_RNN(model, trainset, validset, \n",
    "              batch_size=32, num_epochs=20, learning_rate=0.0003,\n",
    "              plt_val_loss=False):\n",
    "    start_time = time.time()\n",
    "\n",
    "    #prepare data loader\n",
    "    torch.manual_seed(1000)\n",
    "    train_loader = torchtext.data.BucketIterator(\n",
    "        trainset,\n",
    "        batch_size=batch_size,\n",
    "        sort_within_batch=True,        # sort within each batch\n",
    "        sort_key=lambda x: len(x.sms), # minimize padding\n",
    "        repeat=False,\n",
    "        shuffle=True)                  \n",
    "\n",
    "    valid_loader = torchtext.data.BucketIterator(\n",
    "        validset,\n",
    "        batch_size=batch_size,\n",
    "        sort_within_batch=True,        # sort within each batch\n",
    "        sort_key=lambda x: len(x.sms), # minimize padding\n",
    "        repeat=False)                  # repeat the iterator for many epochs\n",
    "\n",
    "    criterion = nn.CrossEntropyLoss()\n",
    "    optimizer = torch.optim.Adam(model.parameters(), lr=learning_rate)\n",
    "    train_los, valid_los, train_acc, valid_acc = [], [], [], []\n",
    "    epochs = []\n",
    "    for epoch in range(num_epochs):\n",
    "        for i, batch in enumerate(train_loader):\n",
    "            optimizer.zero_grad()\n",
    "            pred = model(batch.sms[0])\n",
    "            loss = criterion(pred, batch.label)\n",
    "            loss.backward()\n",
    "            optimizer.step()\n",
    "            \n",
    "        epochs.append(epoch)\n",
    "        train_los.append(get_loss(model, train_loader))\n",
    "        if plt_val_loss: valid_los.append(get_loss(model, valid_loader))\n",
    "        train_acc.append(get_accuracy(model, train_loader))\n",
    "        valid_acc.append(get_accuracy(model, valid_loader))\n",
    "        print(\"Epoch %d; Loss %f; Train Acc %f; Val Acc %f\" % (\n",
    "            epoch+1, loss, train_acc[-1], valid_acc[-1]))\n",
    "        \n",
    "        model_path = get_model_name(batch_size=batch_size, \n",
    "                                    learning_rate=learning_rate, epoch=epoch,\n",
    "                                    hidden_size=model.hidden_size,\n",
    "                                    pool_method=model.pool_method)\n",
    "        torch.save(model.state_dict(), model_path)\n",
    "\n",
    "    # plotting\n",
    "    plt.title(\"Training Curve\")\n",
    "    plt.plot(epochs, train_los, label=\"Train\")\n",
    "    if plt_val_loss: plt.plot(epochs, valid_los, label=\"Validation\")\n",
    "    plt.xlabel(\"Epoch\")\n",
    "    plt.ylabel(\"Loss\")\n",
    "    plt.show()\n",
    "\n",
    "    plt.title(\"Training Curve\")\n",
    "    plt.plot(epochs, train_acc, label=\"Train\")\n",
    "    plt.plot(epochs, valid_acc, label=\"Validation\")\n",
    "    plt.xlabel(\"Epoch\")\n",
    "    plt.ylabel(\"Accuracy\")\n",
    "    plt.legend(loc='best')\n",
    "    plt.show()\n",
    "\n",
    "    end_time = time.time()\n",
    "    duration = end_time - start_time\n",
    "\n",
    "    print(\"Final Training Accuracy: {}\".format(train_acc[-1]))\n",
    "    print(\"Final Validation Accuracy: {}\".format(valid_acc[-1]))\n",
    "    print (\"Trained Duration: {} seconds\".format(duration))"
   ]
  },
  {
   "cell_type": "code",
   "execution_count": null,
   "metadata": {
    "colab": {
     "base_uri": "https://localhost:8080/",
     "height": 1000
    },
    "id": "bxSjuSzbxUYk",
    "outputId": "ad7d4555-906e-4553-8efb-9df127154f4f"
   },
   "outputs": [
    {
     "name": "stdout",
     "output_type": "stream",
     "text": [
      "Epoch 1; Loss 0.676752; Train Acc 0.553308; Val Acc 0.314798\n",
      "Epoch 2; Loss 0.495305; Train Acc 0.870171; Val Acc 0.903139\n",
      "Epoch 3; Loss 1.049908; Train Acc 0.694412; Val Acc 0.486996\n",
      "Epoch 4; Loss 0.158355; Train Acc 0.898856; Val Acc 0.917489\n",
      "Epoch 5; Loss 0.235632; Train Acc 0.895208; Val Acc 0.944395\n",
      "Epoch 6; Loss 0.310655; Train Acc 0.910463; Val Acc 0.947085\n",
      "Epoch 7; Loss 0.289938; Train Acc 0.905820; Val Acc 0.945291\n",
      "Epoch 8; Loss 0.125155; Train Acc 0.914939; Val Acc 0.945291\n",
      "Epoch 9; Loss 0.953606; Train Acc 0.914939; Val Acc 0.949776\n",
      "Epoch 10; Loss 0.324393; Train Acc 0.913779; Val Acc 0.949776\n",
      "Epoch 11; Loss 0.211706; Train Acc 0.916100; Val Acc 0.947085\n",
      "Epoch 12; Loss 0.231306; Train Acc 0.926546; Val Acc 0.947085\n",
      "Epoch 13; Loss 0.140124; Train Acc 0.929531; Val Acc 0.947982\n",
      "Epoch 14; Loss 0.038119; Train Acc 0.928702; Val Acc 0.948879\n",
      "Epoch 15; Loss 0.405597; Train Acc 0.929033; Val Acc 0.953363\n",
      "Epoch 16; Loss 0.266778; Train Acc 0.933510; Val Acc 0.950673\n",
      "Epoch 17; Loss 0.658037; Train Acc 0.935666; Val Acc 0.952466\n",
      "Epoch 18; Loss 0.234070; Train Acc 0.933013; Val Acc 0.947982\n",
      "Epoch 19; Loss 0.046613; Train Acc 0.935832; Val Acc 0.955157\n",
      "Epoch 20; Loss 0.102981; Train Acc 0.936661; Val Acc 0.953363\n",
      "Epoch 21; Loss 0.094301; Train Acc 0.949096; Val Acc 0.959641\n",
      "Epoch 22; Loss 0.236241; Train Acc 0.945946; Val Acc 0.956054\n",
      "Epoch 23; Loss 0.141184; Train Acc 0.939479; Val Acc 0.935426\n",
      "Epoch 24; Loss 0.130381; Train Acc 0.940640; Val Acc 0.935426\n",
      "Epoch 25; Loss 0.303929; Train Acc 0.940308; Val Acc 0.967713\n",
      "Epoch 26; Loss 0.281593; Train Acc 0.954236; Val Acc 0.959641\n",
      "Epoch 27; Loss 0.683922; Train Acc 0.960703; Val Acc 0.971300\n",
      "Epoch 28; Loss 0.286436; Train Acc 0.941635; Val Acc 0.970404\n",
      "Epoch 29; Loss 0.058954; Train Acc 0.960703; Val Acc 0.975785\n",
      "Epoch 30; Loss 0.050293; Train Acc 0.946941; Val Acc 0.978475\n"
     ]
    },
    {
     "data": {
      "image/png": "[encoded data removed]",
      "text/plain": [
       "<Figure size 432x288 with 1 Axes>"
      ]
     },
     "metadata": {
      "needs_background": "light",
      "tags": []
     },
     "output_type": "display_data"
    },
    {
     "data": {
      "image/png": "[encoded data removed]",
      "text/plain": [
       "<Figure size 432x288 with 1 Axes>"
      ]
     },
     "metadata": {
      "needs_background": "light",
      "tags": []
     },
     "output_type": "display_data"
    },
    {
     "name": "stdout",
     "output_type": "stream",
     "text": [
      "Final Training Accuracy: 0.9469408058365114\n",
      "Final Validation Accuracy: 0.97847533632287\n",
      "Trained Duration: 125.49045300483704 seconds\n"
     ]
    }
   ],
   "source": [
    "model0 = SpamRNN(len(text_field.vocab.stoi), 20)\n",
    "train_RNN(model0, train, valid, num_epochs=30, plt_val_loss=True)"
   ]
  },
  {
   "cell_type": "markdown",
   "metadata": {
    "id": "fE3eRkDAa91F"
   },
   "source": [
    "### Part (c) [4 pt]\n",
    "\n",
    "Choose at least 4 hyperparameters to tune. Explain how you tuned the hyperparameters.\n",
    "You don't need to include your training curve for every model you trained.\n",
    "Instead, explain what hyperparemters you tuned, what the best validation accuracy was,\n",
    "and the reasoning behind the hyperparameter decisions you made.\n",
    "\n",
    "For this assignment, you should tune more than just your learning rate and epoch. \n",
    "Choose at least 2 hyperparameters that are unrelated to the optimizer."
   ]
  },
  {
   "cell_type": "code",
   "execution_count": null,
   "metadata": {
    "id": "A2GEWfDca91G"
   },
   "outputs": [],
   "source": [
    "# try a different pooling (Max pooling to keep most important features)\n",
    "model = SpamRNN(len(text_field.vocab.stoi), 20, 1)\n",
    "train_RNN(model, train, valid)\n",
    "\n",
    "# Best Epoch: 20\n",
    "# Training Accuracy: 0.963356\n",
    "# Validation Accuracy: 0.975785"
   ]
  },
  {
   "cell_type": "code",
   "execution_count": null,
   "metadata": {
    "id": "-zI5EigA64ox"
   },
   "outputs": [],
   "source": [
    "# try a different pooling (concate max pooling and average pooling)\n",
    "model = SpamRNN(len(text_field.vocab.stoi), 20, 2)\n",
    "train_RNN(model, train, valid)\n",
    "\n",
    "# Best Epoch: 18\n",
    "# Training Accuracy: 0.968662\n",
    "# Validation Accuracy: 0.974888"
   ]
  },
  {
   "cell_type": "code",
   "execution_count": null,
   "metadata": {
    "id": "gQOn3hUEATRX"
   },
   "outputs": [],
   "source": [
    "# try using a larger hidden layer (double the amount of hidden units)\n",
    "model = SpamRNN(len(text_field.vocab.stoi), 40, 2)\n",
    "train_RNN(model, train, valid)\n",
    "\n",
    "# Best Epoch: 19\n",
    "# Training Accuracy: 0.976123\n",
    "# Validation Accuracy: 0.977578"
   ]
  },
  {
   "cell_type": "code",
   "execution_count": null,
   "metadata": {
    "id": "7nTbg5gd-0Q4"
   },
   "outputs": [],
   "source": [
    "# try using a larger hidden layer (increase the amount of hidden units)\n",
    "model = SpamRNN(len(text_field.vocab.stoi), 100, 2)\n",
    "train_RNN(model, train, valid)\n",
    "\n",
    "# Best Epoch: 18\n",
    "# Training Accuracy: 0.983585\n",
    "# Validation Accuracy: 0.981166\n",
    "\n",
    "# This is the best model"
   ]
  },
  {
   "cell_type": "code",
   "execution_count": null,
   "metadata": {
    "id": "2yN4apPM8WR3"
   },
   "outputs": [],
   "source": [
    "# try smaller learning rate and more epochs\n",
    "model = SpamRNN(len(text_field.vocab.stoi), 40, 2)\n",
    "train_RNN(model, train, valid, num_epochs=50, learning_rate=0.0001, batch_size=64)\n",
    "\n",
    "# Best Epoch: 49\n",
    "# Training Accuracy: 0.963356\n",
    "# Validation Accuracy: 0.975785"
   ]
  },
  {
   "cell_type": "markdown",
   "metadata": {
    "id": "v7DY56rKa91I"
   },
   "source": [
    "### Part (d) [2 pt]\n",
    "\n",
    "Before we deploy a machine learning model, we usually want to have a better understanding\n",
    "of how our model performs beyond its validation accuracy. An important metric to track is\n",
    "*how well our model performs in certain subsets of the data*.\n",
    "\n",
    "In particular, what is the model's error rate amongst data with negative labels?\n",
    "This is called the **false positive rate**.\n",
    "\n",
    "What about the model's error rate amongst data with positive labels?\n",
    "This is called the **false negative rate**.\n",
    "\n",
    "Report your final model's false positive and false negative rate across the\n",
    "validation set."
   ]
  },
  {
   "cell_type": "code",
   "execution_count": null,
   "metadata": {
    "colab": {
     "base_uri": "https://localhost:8080/",
     "height": 35
    },
    "id": "qma1pYNVGrSg",
    "outputId": "5433d922-85d8-4807-ddaa-fa1c5f24b825"
   },
   "outputs": [
    {
     "data": {
      "text/plain": [
       "<All keys matched successfully>"
      ]
     },
     "execution_count": 23,
     "metadata": {
      "tags": []
     },
     "output_type": "execute_result"
    }
   ],
   "source": [
    "model_path = get_model_name(hidden_size=100, pool_method=2, epoch=17)\n",
    "state = torch.load(model_path)\n",
    "model = SpamRNN(len(text_field.vocab.stoi), 100, 2)\n",
    "model.load_state_dict(state)"
   ]
  },
  {
   "cell_type": "code",
   "execution_count": null,
   "metadata": {
    "id": "7ggbQSdba91J"
   },
   "outputs": [],
   "source": [
    "# Create a Dataset of only spam validation examples\n",
    "valid_spam = torchtext.data.Dataset(\n",
    "    [e for e in valid.examples if e.label == 1],\n",
    "    valid.fields)\n",
    "# Create a Dataset of only non-spam validation examples\n",
    "valid_nospam = torchtext.data.Dataset(\n",
    "    [e for e in valid.examples if e.label != 1],\n",
    "    valid.fields)"
   ]
  },
  {
   "cell_type": "code",
   "execution_count": null,
   "metadata": {
    "colab": {
     "base_uri": "https://localhost:8080/",
     "height": 53
    },
    "id": "7W8oSCmwGtqU",
    "outputId": "e87c67ea-5bc1-426d-f943-144b0696a3cf"
   },
   "outputs": [
    {
     "name": "stdout",
     "output_type": "stream",
     "text": [
      "False negative rate:\t 0.07333333333333336\n",
      "False positive rate:\t 0.00932642487046631\n"
     ]
    }
   ],
   "source": [
    "load = lambda dataset: torchtext.data.BucketIterator(\n",
    "        dataset,\n",
    "        batch_size=32,\n",
    "        sort_within_batch=True,        # sort within each batch\n",
    "        sort_key=lambda x: len(x.sms), # minimize padding\n",
    "        repeat=False)   \n",
    "\n",
    "false_neg_rate = 1 - get_accuracy(model, load(valid_spam))\n",
    "print(\"False negative rate:\\t\", false_neg_rate)\n",
    "\n",
    "false_pos_rate = 1 - get_accuracy(model, load(valid_nospam))\n",
    "print(\"False positive rate:\\t\", false_pos_rate)"
   ]
  },
  {
   "cell_type": "markdown",
   "metadata": {
    "id": "N1iRteb3a91O"
   },
   "source": [
    "### Part (e) [2 pt]\n",
    "\n",
    "The impact of a false positive vs a false negative can be drastically different.\n",
    "If our spam detection algorithm was deployed on your phone, what is the impact\n",
    "of a false positive on the phone's user? What is the impact of a false negative?"
   ]
  },
  {
   "cell_type": "code",
   "execution_count": null,
   "metadata": {
    "id": "RXrqmpRYBw-q"
   },
   "outputs": [],
   "source": [
    "# A false positive can happen when a spam message is recognized as a non-spam message.\n",
    "#   The user will get some unnecessary message when this happens\n",
    "\n",
    "# A false negative van happen when a non-spam message is recognized as a spam message.\n",
    "#   The user may miss some important SMS if the model filtered a non-spam message"
   ]
  },
  {
   "cell_type": "markdown",
   "metadata": {
    "id": "Gznefulsa91V"
   },
   "source": [
    "## Part 4. Evaluation [11 pt]\n",
    "\n",
    "### Part (a) [1 pt]\n",
    "\n",
    "Report the final test accuracy of your model."
   ]
  },
  {
   "cell_type": "code",
   "execution_count": null,
   "metadata": {
    "colab": {
     "base_uri": "https://localhost:8080/",
     "height": 35
    },
    "id": "D5L5D-A1a91W",
    "outputId": "5d3f7b47-3ed2-434a-a08b-5d8e42ccbdd4"
   },
   "outputs": [
    {
     "name": "stdout",
     "output_type": "stream",
     "text": [
      "Final test accuracy:\t 0.9847396768402155\n"
     ]
    }
   ],
   "source": [
    "test_acc = get_accuracy(model, load(test))\n",
    "print(\"Final test accuracy:\\t\", test_acc)"
   ]
  },
  {
   "cell_type": "markdown",
   "metadata": {
    "id": "6Hjmd8rca91Y"
   },
   "source": [
    "### Part (b) [3 pt]\n",
    "\n",
    "Report the false positive rate and false negative rate of your model across the test set."
   ]
  },
  {
   "cell_type": "code",
   "execution_count": null,
   "metadata": {
    "colab": {
     "base_uri": "https://localhost:8080/",
     "height": 53
    },
    "id": "GFiAKztJa91Z",
    "outputId": "16f79490-b0f8-430b-f4fe-33d7476a4511"
   },
   "outputs": [
    {
     "name": "stdout",
     "output_type": "stream",
     "text": [
      "False negative rate:\t 0.046979865771812124\n",
      "False positive rate:\t 0.010362694300518172\n"
     ]
    }
   ],
   "source": [
    "# Create a Dataset of only spam test examples\n",
    "test_spam = torchtext.data.Dataset(\n",
    "    [e for e in test.examples if e.label == 1],\n",
    "    test.fields)\n",
    "# Create a Dataset of only non-spam test examples\n",
    "test_nospam = torchtext.data.Dataset(\n",
    "    [e for e in test.examples if e.label != 1],\n",
    "    test.fields)\n",
    "\n",
    "false_neg_rate = 1 - get_accuracy(model, load(test_spam))\n",
    "print(\"False negative rate:\\t\", false_neg_rate)\n",
    "\n",
    "false_pos_rate = 1 - get_accuracy(model, load(test_nospam))\n",
    "print(\"False positive rate:\\t\", false_pos_rate)"
   ]
  },
  {
   "cell_type": "markdown",
   "metadata": {
    "id": "0jGHtQFpa91b"
   },
   "source": [
    "### Part (c) [3 pt]\n",
    "\n",
    "What is your model's prediction of the **probability** that\n",
    "the SMS message \"machine learning is sooo cool!\" is spam?\n",
    "\n",
    "Hint: To begin, use `text_field.vocab.stoi` to look up the index\n",
    "of each character in the vocabulary."
   ]
  },
  {
   "cell_type": "code",
   "execution_count": null,
   "metadata": {
    "colab": {
     "base_uri": "https://localhost:8080/",
     "height": 53
    },
    "id": "h_2nSJq8a91b",
    "outputId": "0f482a0d-3380-495f-8e8c-1422e6475f52"
   },
   "outputs": [
    {
     "name": "stdout",
     "output_type": "stream",
     "text": [
      "Message type:\t non-spam\n",
      "Probability of spam:\t 0.07531009614467621\n"
     ]
    }
   ],
   "source": [
    "msg = \"machine learning is sooo cool!\"\n",
    "\n",
    "test_msg = torch.LongTensor([text_field.vocab.stoi[x] for x in msg]).unsqueeze(0)\n",
    "pred = model(test_msg).max(1, keepdim=True)[1]\n",
    "\n",
    "print(\"Message type:\\t\", \"spam\" if pred else \"non-spam\")\n",
    "print(\"Probability of spam:\\t\", \n",
    "      float(torch.nn.functional.softmax(model(test_msg)[0], dim=0)[1]))\n"
   ]
  },
  {
   "cell_type": "markdown",
   "metadata": {
    "id": "QD1zgYJpa91f"
   },
   "source": [
    "### Part (d) [4 pt]\n",
    "\n",
    "Do you think detecting spam is an easy or difficult task?\n",
    "\n",
    "Since machine learning models are expensive to train and deploy, it is very\n",
    "important to compare our models against baseline models: a simple\n",
    "model that is easy to build and inexpensive to run that we can compare our\n",
    "recurrent neural network model against.\n",
    "\n",
    "Explain how you might build a simple baseline model. This baseline model\n",
    "can be a simple neural network (with very few weights), a hand-written algorithm,\n",
    "or any other strategy that is easy to build and test.\n",
    "\n",
    "**Do not actually build a baseline model. Instead, provide instructions on\n",
    "how to build it.**"
   ]
  },
  {
   "cell_type": "code",
   "execution_count": null,
   "metadata": {
    "id": "LTndp-IOa91g"
   },
   "outputs": [],
   "source": [
    "# see below"
   ]
  },
  {
   "cell_type": "markdown",
   "metadata": {
    "id": "ThTB3H0sMdzl"
   },
   "source": [
    "It is easy to get a high accuracy in spam detecting model. However, the false positive/negative can cause a huge problem and affects the user experience\n",
    "\n",
    "A baseline model can be based on word searching algorithm. For example if we found \"Increase sale\", \"month trial offer\", \"on sale\", \"notaspam\", etc. in a message, it is most likely a spam SMS."
   ]
  }
 ],
 "metadata": {
  "colab": {
   "collapsed_sections": [],
   "provenance": []
  },
  "kernelspec": {
   "display_name": "Python 3",
   "language": "python",
   "name": "python3"
  },
  "language_info": {
   "codemirror_mode": {
    "name": "ipython",
    "version": 3
   },
   "file_extension": ".py",
   "mimetype": "text/x-python",
   "name": "python",
   "nbconvert_exporter": "python",
   "pygments_lexer": "ipython3",
   "version": "3.7.4"
  }
 },
 "nbformat": 4,
 "nbformat_minor": 0
}
